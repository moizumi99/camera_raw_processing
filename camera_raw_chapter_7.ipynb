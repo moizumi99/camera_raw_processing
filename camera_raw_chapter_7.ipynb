{
 "cells": [
  {
   "cell_type": "markdown",
   "metadata": {
    "colab_type": "text",
    "id": "4jwut-7gzs8U"
   },
   "source": [
    "# まとめ"
   ]
  },
  {
   "cell_type": "markdown",
   "metadata": {
    "colab_type": "text",
    "id": "kPkuZGWjzs8V"
   },
   "source": [
    "## まとめ"
   ]
  },
  {
   "cell_type": "markdown",
   "metadata": {
    "colab_type": "text",
    "id": "ApD4indyzs8W"
   },
   "source": [
    "### はじめに\n",
    "\n",
    "この章は全体のまとめです。\n",
    "\n",
    "この節のの内容はColabノートブックとして公開してあります。ノートブックを見るには[目次ページ](http://bit.ly/raw_toc)から参照するか、以下のリンクを使ってアクセスしてください。\n",
    "\n",
    "http://bit.ly/raw_chap_7"
   ]
  },
  {
   "cell_type": "markdown",
   "metadata": {},
   "source": [
    "### 本文"
   ]
  },
  {
   "cell_type": "markdown",
   "metadata": {
    "colab_type": "text",
    "id": "xY6r63Bczs85"
   },
   "source": [
    "### まとめ\n",
    "\n",
    "おわりです。\n",
    "\n",
    "[付録](http://bit.ly/raw_appendix)があります。\n"
   ]
  }
 ],
 "metadata": {
  "colab": {
   "name": "camera_raw_chapter_6_1.ipynb",
   "provenance": [],
   "version": "0.3.2"
  },
  "kernelspec": {
   "display_name": "Python 3",
   "language": "python",
   "name": "python3"
  },
  "language_info": {
   "codemirror_mode": {
    "name": "ipython",
    "version": 3
   },
   "file_extension": ".py",
   "mimetype": "text/x-python",
   "name": "python",
   "nbconvert_exporter": "python",
   "pygments_lexer": "ipython3",
   "version": "3.7.0"
  }
 },
 "nbformat": 4,
 "nbformat_minor": 1
}
