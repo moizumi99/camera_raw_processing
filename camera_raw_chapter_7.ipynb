{
 "cells": [
  {
   "cell_type": "markdown",
   "metadata": {
    "colab_type": "text",
    "id": "4jwut-7gzs8U"
   },
   "source": [
    "# あとがき"
   ]
  },
  {
   "cell_type": "markdown",
   "metadata": {},
   "source": [
    "この本の内容は著者のブログ[「ゼロから作るRAW現像」](http://bit.ly/raw_zero)を再編集し、全編Colaboratoryでそのまま実行できるように書き直したものです。\n",
    "\n",
    "ゼロから作るRAW現像:[http://bit.ly/raw_zero](http://bit.ly/raw_zero)\n",
    "\n",
    "今回同人誌化するにあたっては記事の構成を大きく入れ替え、環境構築の必用がないColaboratoryに実行環境を移すことにより、よりいっそうわかりやすく書くことに注力しました。\n",
    "\n",
    "最後にこの場を借りてお礼の言葉を述べさせてください。まず「ゼロから作るRAW現像」にフィードバックをくださった方々に感謝したいと思います。とくに@karaage氏には熱烈な応援を頂いた上に、ブログの校閲もしていただきました。また@karaageさんが最初にColaboratoryでの実行にも成功された事にも触れないわけにはいきません。\n",
    "\n",
    "からあげ氏のブログ：[https://karaage.hatenadiary.jp/](https://karaage.hatenadiary.jp/)\n",
    "\n",
    "また、@uchan\\_nos氏には快く技術書展での委託販売を了解していただきました。@uchan\\_nos氏のご厚意がなければ、この同人誌も印刷されることはなかったと思います。ありがとうございました。\n",
    "\n",
    "uchan\\_nos氏のブログ：[http://uchan.hateblo.jp](http://uchan.hateblo.jp)"
   ]
  }
 ],
 "metadata": {
  "colab": {
   "name": "camera_raw_chapter_7.ipynb",
   "provenance": [],
   "version": "0.3.2"
  },
  "kernelspec": {
   "display_name": "Python 3",
   "language": "python",
   "name": "python3"
  },
  "language_info": {
   "codemirror_mode": {
    "name": "ipython",
    "version": 3
   },
   "file_extension": ".py",
   "mimetype": "text/x-python",
   "name": "python",
   "nbconvert_exporter": "python",
   "pygments_lexer": "ipython3",
   "version": "3.7.0"
  }
 },
 "nbformat": 4,
 "nbformat_minor": 1
}
