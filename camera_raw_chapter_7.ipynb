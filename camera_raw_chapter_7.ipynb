{
 "cells": [
  {
   "cell_type": "markdown",
   "metadata": {
    "colab_type": "text",
    "id": "4jwut-7gzs8U"
   },
   "source": [
    "# あとがき"
   ]
  },
  {
   "cell_type": "markdown",
   "metadata": {},
   "source": [
    "この本の内容は著者のブログ[「ゼロから作るRAW現像」](http://uzusayuu.hatenadiary.jp/entry/2018/11/04/141216)を再編集し、前編Colaboratoryでそのまま実行できるように書き直したものです。\n",
    "\n",
    "ブログ掲載時には「面白い」「興味深い」といった感想がよせられたものの、一部「難しい」「わからん」という方もいらっしゃいました。この大部分は処理の内容自体よりも記事の構成や文章が拙かったのではないかと想像しています。\n",
    "\n",
    "そこで今回同人誌化するにあたっては記事の順番を大きく入れ替え、また環境構築の必用がないColaboratoryに実行環境を移すことにより、不必要なわかりにくさをできるだけ取り除くことに注力しました。うまくいっているかどうかは読者の皆さんに判断していただくしかありませんが、手にとっていただいただけでも幸いです。\n",
    "\n",
    "TODO:謝辞追加"
   ]
  }
 ],
 "metadata": {
  "colab": {
   "name": "camera_raw_chapter_7.ipynb",
   "provenance": [],
   "version": "0.3.2"
  },
  "kernelspec": {
   "display_name": "Python 3",
   "language": "python",
   "name": "python3"
  },
  "language_info": {
   "codemirror_mode": {
    "name": "ipython",
    "version": 3
   },
   "file_extension": ".py",
   "mimetype": "text/x-python",
   "name": "python",
   "nbconvert_exporter": "python",
   "pygments_lexer": "ipython3",
   "version": "3.7.0"
  }
 },
 "nbformat": 4,
 "nbformat_minor": 1
}
