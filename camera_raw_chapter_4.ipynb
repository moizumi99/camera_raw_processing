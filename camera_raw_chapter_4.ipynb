{
  "nbformat": 4,
  "nbformat_minor": 0,
  "metadata": {
    "colab": {
      "name": "camera_raw_chapter_4.ipynb",
      "version": "0.3.2",
      "provenance": [],
      "include_colab_link": true
    },
    "kernelspec": {
      "display_name": "Python 3",
      "language": "python",
      "name": "python3"
    }
  },
  "cells": [
    {
      "cell_type": "markdown",
      "metadata": {
        "id": "view-in-github",
        "colab_type": "text"
      },
      "source": [
        "<a href=\"https://colab.research.google.com/github/moizumi99/camera_raw_processing/blob/master/camera_raw_chapter_4.ipynb\" target=\"_parent\"><img src=\"https://colab.research.google.com/assets/colab-badge.svg\" alt=\"Open In Colab\"/></a>"
      ]
    },
    {
      "metadata": {
        "colab_type": "text",
        "id": "kJVUDw9w48sh"
      },
      "cell_type": "markdown",
      "source": [
        "#  4. 重要な処理"
      ]
    },
    {
      "metadata": {
        "colab_type": "text",
        "id": "t8PX2KZy9ZPE"
      },
      "cell_type": "markdown",
      "source": [
        "## 4.1 この章について\n",
        "\n",
        "### はじめに\n",
        "\n",
        "この章ではカメラ画像処理の中でも重要な処理を紹介します。\n",
        "\n",
        "この章の内容はColabノートブックとして公開してあります。ノートブックを見るには[目次ページ](http://bit.ly/raw_toc)から参照するか、以下のリンクを使ってアクセスしてください。\n",
        "\n",
        "http://bit.ly/raw_chap_4\n"
      ]
    },
    {
      "metadata": {
        "id": "LElOcYeecz7w",
        "colab_type": "text"
      },
      "cell_type": "markdown",
      "source": [
        "### この章で扱う処理について\n",
        "\n",
        "前章でRAW画像に最低限の処理を行いフルRGBとして表示することができました。\n",
        "処理が単純な割には以外のきれいな画像ができたのではないでしょうか？\n",
        "\n",
        "でもこれは画像を随分小さく表示しているせいで粗が目立っていないという面が大きいのです。またRAW現像やカメラ画像処理で扱う画像は常に理想的な状態で撮影されるわけではありません。撮影は室内などの暗いところで扱われることも多いですし、センサーもスマートフォン向けを始め非常に小さい物を使う事が多々あります。そういった画像データにはさまざまな理想的でない特性があり、そういったものは、各種の補正処理を行わないと最終的な画質は低品質になってしまいます。\n",
        "\n",
        "また、前章で扱ったデモザイクは簡易的なもので出力画像が入力画像の４分の１の大きさになるという重大な問題があります。これも解決しなくてはなりません。\n",
        "\n",
        "この章ではそういった通常のRAW画像を処理する上で重要な処理を紹介します。\n",
        "\n",
        "とりあげるのは以下の処理です。\n",
        "- デモザイク\n",
        "- 欠陥画素補正\n",
        "- カラーマトリクス補正\n",
        "- レンズシェーディング補正\n",
        "\n",
        "最初に扱うデモザイクでは、出力サイズが入力サイズと同じになる通常のデモザイク処理を取り上げます。\n",
        "\n",
        "次の欠陥画素補正では、画像センサーにはつきものの欠陥画素を修正する方法を紹介します。\n",
        "\n",
        "カラーマトリクス補正は色再現性を向上する処理です。\n",
        "\n",
        "レンズシェーディング補正は画像の周辺で明るさが低下する周辺減光・レンズシェーディングと呼ばれる現象を補正します。\n",
        "\n",
        "### まとめ\n",
        "\n",
        "この章で扱う内容について概要を説明しました。次は[線形補間デモザイク処理](http://bit.ly/raw_chap_4_2)です。"
      ]
    }
  ]
}