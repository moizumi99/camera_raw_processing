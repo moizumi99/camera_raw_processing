{
 "cells": [
  {
   "cell_type": "markdown",
   "metadata": {
    "colab_type": "text",
    "id": "kJVUDw9w48sh"
   },
   "source": [
    "#  4. 重要な処理"
   ]
  },
  {
   "cell_type": "markdown",
   "metadata": {
    "colab_type": "text",
    "id": "t8PX2KZy9ZPE"
   },
   "source": [
    "# 4.1 この章について\n",
    "\n",
    "## はじめに\n",
    "\n",
    "この章ではカメラ画像処理の中でも重要な処理を紹介します。\n",
    "\n",
    "この章の内容はColabノートブックとして公開してあります。ノートブックを見るには[目次ページ](https://colab.research.google.com/github/moizumi99/camera_raw_processing/blob/master/camera_raw_toc.ipynb)から参照するか、以下のリンクを使ってアクセスしてください。\n",
    "\n",
    "https://colab.research.google.com/github/moizumi99/camera_raw_processing/blob/master/camera_raw_chapter_4.ipynb\n"
   ]
  },
  {
   "cell_type": "markdown",
   "metadata": {},
   "source": [
    "## この章で扱う処理について\n",
    "\n",
    "前章でRAW画像に最低限の処理を行いフルRGBとして表示することができました。\n",
    "処理が単純な割には以外のきれいな画像ができたのではないでしょうか？\n",
    "\n",
    "しかし、これは多くの部分が元のRAWデータが良い状態であったという恵まれた条件によるものです。前章で扱ったRAWデータは、フルサイズセンサーのカメラで非常に明るい屋外で撮影したもので、歪みもノイズも少なく、最小限の画像処理でもそこそこの画質を再現することができました。\n",
    "\n",
    "しかし、RAW現像やカメラ画像処理で扱う画像は常にこのような理想的な状態で撮影されるわけではありません。撮影は室内などの暗いところで扱われることも多いですし、センサーもスマートフォン向けを始め非常に小さい物を使う事が多々あります。そういった状況で撮影されたRAW画像に対しては前章で扱ったようなRAW現像だけでは太刀打ちできません。\n",
    "\n",
    "この章ではそういった通常のRAW画像を処理する上で最も重要な処理を紹介します。\n",
    "\n",
    "とりあげるのは以下の処理です。\n",
    "- デモザイク\n",
    "- 欠陥画素補正\n",
    "- カラーマトリクス\n",
    "- レンズシェーディング補正\n",
    "\n",
    "最初に扱うデモザイクでは、出力サイズが入力サイズと同じになる通常のデモザイク処理を取り上げます。\n",
    "\n",
    "次の欠陥画素補正では、画像センサーにはつきものの欠陥画素を修正する方法を紹介します。\n",
    "\n",
    "カラーマトリクスは色再現性を向上する処理です。\n",
    "\n",
    "レンズシェーディング補正は画像の周辺で明るさが低下する周辺減光・レンズシェーディングと呼ばれる現象を補正します。\n",
    "\n",
    "また、これらの処理の効果を見るために、この章以降では、ラズベリーパイのカメラ(v1.2)で撮影したRAW画像を使用します。\n",
    "\n",
    "## まとめ\n",
    "\n",
    "この章で扱う内容について概要を説明しました。次は[デモザイク処理](https://colab.research.google.com/github/moizumi99/camera_raw_processing/blob/master/camera_raw_chapter_4_1.ipynb)です。"
   ]
  }
 ],
 "metadata": {
  "colab": {
   "include_colab_link": true,
   "name": "camera_raw_chapter_4.ipynb",
   "provenance": [],
   "version": "0.3.2"
  },
  "kernelspec": {
   "display_name": "Python 3",
   "language": "python",
   "name": "python3"
  },
  "language_info": {
   "codemirror_mode": {
    "name": "ipython",
    "version": 3
   },
   "file_extension": ".py",
   "mimetype": "text/x-python",
   "name": "python",
   "nbconvert_exporter": "python",
   "pygments_lexer": "ipython3",
   "version": "3.7.0"
  }
 },
 "nbformat": 4,
 "nbformat_minor": 1
}
