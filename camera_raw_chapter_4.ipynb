{
  "nbformat": 4,
  "nbformat_minor": 0,
  "metadata": {
    "colab": {
      "name": "camera_raw_chapter_4.ipynb",
      "version": "0.3.2",
      "provenance": [],
      "include_colab_link": true
    },
    "kernelspec": {
      "name": "python3",
      "display_name": "Python 3"
    }
  },
  "cells": [
    {
      "cell_type": "markdown",
      "metadata": {
        "id": "view-in-github",
        "colab_type": "text"
      },
      "source": [
        "<a href=\"https://colab.research.google.com/github/moizumi99/camera_raw_processing/blob/master/camera_raw_chapter_4.ipynb\" target=\"_parent\"><img src=\"https://colab.research.google.com/assets/colab-badge.svg\" alt=\"Open In Colab\"/></a>"
      ]
    },
    {
      "metadata": {
        "id": "kJVUDw9w48sh",
        "colab_type": "text"
      },
      "cell_type": "markdown",
      "source": [
        "#  4. 重要な処理"
      ]
    },
    {
      "metadata": {
        "id": "t8PX2KZy9ZPE",
        "colab_type": "text"
      },
      "cell_type": "markdown",
      "source": [
        "# この章について"
      ]
    },
    {
      "metadata": {
        "id": "7bAk8MIJ9cRI",
        "colab_type": "text"
      },
      "cell_type": "markdown",
      "source": [
        "この章の内容はColabノートブックとして公開してあります。ノートブックを見るには[目次ページ](https://colab.research.google.com/drive/1iCvkyksS0RPxo4aQc1xkNbMlZYReexPP)から参照するか、以下のリンクを使ってアクセスしてください。\n",
        "\n",
        "https://colab.research.google.com/drive/1ab0z2tNkgxaF2w98krsHP-YqKg45xa9K"
      ]
    },
    {
      "metadata": {
        "id": "MNmKcKRp415e",
        "colab_type": "code",
        "colab": {}
      },
      "cell_type": "code",
      "source": [
        ""
      ],
      "execution_count": 0,
      "outputs": []
    }
  ]
}