{
  "nbformat": 4,
  "nbformat_minor": 0,
  "metadata": {
    "colab": {
      "name": "camera_raw_chapter_4.ipynb",
      "version": "0.3.2",
      "provenance": []
    },
    "kernelspec": {
      "display_name": "Python 3",
      "language": "python",
      "name": "python3"
    }
  },
  "cells": [
    {
      "metadata": {
        "colab_type": "text",
        "id": "kJVUDw9w48sh"
      },
      "cell_type": "markdown",
      "source": [
        "#  重要な処理"
      ]
    },
    {
      "metadata": {
        "colab_type": "text",
        "id": "t8PX2KZy9ZPE"
      },
      "cell_type": "markdown",
      "source": [
        "## この章について\n",
        "\n",
        "### はじめに\n",
        "\n",
        "この章ではカメラ画像処理の中でも重要な処理を紹介します。\n",
        "\n",
        "この章の内容の詳しい解説については技術書典6で配布した書籍「ゼロから作るRAW現像」を参照下さい。\n",
        "\n",
        "[目次ページに戻る](http://bit.ly/raw_toc)"
      ]
    },
    {
      "metadata": {
        "colab_type": "text",
        "id": "LElOcYeecz7w"
      },
      "cell_type": "markdown",
      "source": [
        "### まとめ\n",
        "\n",
        "この章で扱う内容について概要を説明しました。次は[線形補間デモザイク処理](http://bit.ly/raw_chap_4_2)です。"
      ]
    }
  ]
}