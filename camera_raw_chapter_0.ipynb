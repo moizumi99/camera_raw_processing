{
  "nbformat": 4,
  "nbformat_minor": 0,
  "metadata": {
    "colab": {
      "name": "camera_raw_chapter_0.ipynb",
      "version": "0.3.2",
      "provenance": [],
      "collapsed_sections": [],
      "include_colab_link": true
    },
    "kernelspec": {
      "name": "python3",
      "display_name": "Python 3"
    }
  },
  "cells": [
    {
      "cell_type": "markdown",
      "metadata": {
        "id": "view-in-github",
        "colab_type": "text"
      },
      "source": [
        "<a href=\"https://colab.research.google.com/github/moizumi99/camera_raw_processing/blob/master/camera_raw_chapter_0.ipynb\" target=\"_parent\"><img src=\"https://colab.research.google.com/assets/colab-badge.svg\" alt=\"Open In Colab\"/></a>"
      ]
    },
    {
      "metadata": {
        "id": "Te523tLPCKsK",
        "colab_type": "text"
      },
      "cell_type": "markdown",
      "source": [
        "# PythonとColabで作る - カメラ画像処理ソフトウェア作成入門"
      ]
    },
    {
      "metadata": {
        "id": "rovw28IICMap",
        "colab_type": "text"
      },
      "cell_type": "markdown",
      "source": [
        "# はじめに"
      ]
    },
    {
      "metadata": {
        "id": "VtAuZqBOCVwc",
        "colab_type": "text"
      },
      "cell_type": "markdown",
      "source": [
        "## この本について"
      ]
    },
    {
      "metadata": {
        "id": "uLDnQ8fjCbYB",
        "colab_type": "text"
      },
      "cell_type": "markdown",
      "source": [
        "この本では、カメラ画像処理・RAW画像現像の内容を実際の動作レベルで解説し、なるべくスクラッチからPython上で実行してみる事を目的としています。\n",
        "\n",
        "そのために、解説する処理は最重要なものにしぼり、使用するアルゴリズムは一部の例外（デモザイク）を除き、もっとも簡単なものを選びました<sup name=\"footnote1\">[1]</sup>。\n",
        "\n",
        "またすべての処理はGoogle Colab上で行うことができ、読者の皆さんはパワフルなPCや特殊なソフトウェアをよういせずとも、ブラウザ上で全ての処理を試してみることができます。\n",
        "  \n",
        "記事の最後ではラズベリーパイのカメラで撮影したRAW画像からこんなRGB画像が作れるようになります。"
      ]
    },
    {
      "metadata": {
        "id": "XCSHEbH9DWKw",
        "colab_type": "text"
      },
      "cell_type": "markdown",
      "source": [
        "(TODO: 画像を入れる)"
      ]
    },
    {
      "metadata": {
        "id": "vZDxW244EBjH",
        "colab_type": "text"
      },
      "cell_type": "markdown",
      "source": [
        "## Colabについて\n"
      ]
    },
    {
      "metadata": {
        "id": "Aur6izfqGBZ-",
        "colab_type": "text"
      },
      "cell_type": "markdown",
      "source": [
        "\n",
        "(TODO: Colabの解説)"
      ]
    },
    {
      "metadata": {
        "id": "oDzKvsuXEFiv",
        "colab_type": "text"
      },
      "cell_type": "markdown",
      "source": [
        "## この本で扱うもの\n"
      ]
    },
    {
      "metadata": {
        "id": "_WG7PppYFzHV",
        "colab_type": "text"
      },
      "cell_type": "markdown",
      "source": [
        "- 基本的なRAW現像処理・カメラ画像処理の流れ\n",
        "- Bayer画像からRGB画像出力までの各アルゴリズムのうち、基本的な最低限のものの解説\n",
        "- 解説した基本的なアルゴリズムのPythonによる実装と処理例"
      ]
    },
    {
      "metadata": {
        "id": "GxTPnXflEN2u",
        "colab_type": "text"
      },
      "cell_type": "markdown",
      "source": [
        "## この記事で扱わないもの\n"
      ]
    },
    {
      "metadata": {
        "id": "AFVXdBUrF6M2",
        "colab_type": "text"
      },
      "cell_type": "markdown",
      "source": [
        "\n",
        "- ３A（オートフォーカス、オートホワイトバランス、オート露出）などを始めとするカメラコントロールアルゴリズム\n",
        "- 高度なカメラ画像処理アルゴリズム\n",
        "- 画像評価、カリブレーション、及びチューニング（ただし、記事の解説上最低限必要なものを除く）\n",
        "- 画像圧縮"
      ]
    },
    {
      "metadata": {
        "id": "rHby_HVMEQ5x",
        "colab_type": "text"
      },
      "cell_type": "markdown",
      "source": [
        "## 環境について\n",
        "\n",
        "この記事で解説する内容は一般的なものですが、使用した画像ファイルは特定のカメラに依存しています。\n",
        "他のカメラでもわずかな変更で同等の処理ができるとは予想されますが、検証はしていません。"
      ]
    },
    {
      "metadata": {
        "id": "FR2x7uaIEY_I",
        "colab_type": "text"
      },
      "cell_type": "markdown",
      "source": [
        "### 使用カメラ\n",
        "\n"
      ]
    },
    {
      "metadata": {
        "id": "6pzXj7k3F97X",
        "colab_type": "text"
      },
      "cell_type": "markdown",
      "source": [
        "\n",
        "- Sony Alpha 7 III\n",
        "- Raspberry Pi Camera v2.1\n",
        "\n",
        "なお、使用したファイルはGithubからダウンロードできるので、これらのカメラをお持ちでなくても、紹介した処理の内容を実行することは可能です。"
      ]
    },
    {
      "metadata": {
        "id": "8_NEJxPyEadj",
        "colab_type": "text"
      },
      "cell_type": "markdown",
      "source": [
        "### 実行環境\n",
        "\n",
        "この内容を再現するには通常のPC環境に加えて以下の環境等が必用です。\n",
        "\n",
        "- Google Colabにアクセスできるブラウザ\n",
        " - 多くのブラウザが対応できると思われますが、本書の内容はChromeによって確かめられています。\n",
        "\n",
        "- ColabにアクセスできるGoogleアカウント\n",
        "\n",
        "次の物があれば、本書の内容を更に深く理解することができます\n",
        "\n",
        "- PC上で実行できるPerl\n",
        "- [exiftool](https://www.sno.phy.queensu.ca/~phil/exiftool/)"
      ]
    },
    {
      "metadata": {
        "id": "QHAn24yvFnXe",
        "colab_type": "code",
        "colab": {}
      },
      "cell_type": "code",
      "source": [
        ""
      ],
      "execution_count": 0,
      "outputs": []
    }
  ]
}