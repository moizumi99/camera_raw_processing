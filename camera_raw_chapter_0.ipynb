{
 "cells": [
  {
   "cell_type": "markdown",
   "metadata": {},
   "source": [
    "# 書籍の内容について"
   ]
  },
  {
   "cell_type": "markdown",
   "metadata": {},
   "source": [
    "## サンプルコード\n",
    "\n",
    "この本で扱ったサンプルコードは以下のGitHubリポジトリーで公開しています。\n",
    "\n",
    "[https://github.com/moizumi99/camera\\_raw\\_processing](https://github.com/moizumi99/camera_raw_processing)\n",
    "\n",
    "サンプルコードをColabで実行する場合は次のURLからアクセス下さい。\n",
    "\n",
    "[http://bit.ly/raw\\_toc](http://bit.ly/raw_toc)"
   ]
  },
  {
   "cell_type": "markdown",
   "metadata": {},
   "source": [
    "## コードおよびデータの扱いについて\n",
    "\n",
    "公開部分のうちPythonのコード部分は読者の方がどのように改変して使用されても構いません。また再配布も自由です。許可もいりませんし、こちらの本やgithubのリポジトリーに言及する必用もありません。\n",
    "\n",
    "RAW画像およびそれを処理したものどちらも改変および再配布を許可します。ただし、ブログ・書籍・ご自分のプロジェクトまたはその他の形で他者に公開する場合には、配布元ととしてこちらのgithubのリポジトリーのURLを提示することを条件とします。\n",
    "\n",
    "[https://github.com/moizumi99/camera\\_raw\\_processing](https://github.com/moizumi99/camera_raw_processing)\n",
    "\n",
    "この本およびgithubで公開されているデータのうち解説テキスト及び図(RAW画像以外の物)については、個人的な目的を超える使用、および筆者の許可を得ぬ再配布はご遠慮ください。\n",
    "\n",
    "まとめると「Pythonコードは好きに使って良い」「RAW画像を使用するときはgithubのURLを添えて」「テキストと図（RAW画像以外）は改変・再配布不可」です。\n",
    "\n",
    "## 免責事項\n",
    "\n",
    "この本およびそれに付随するテキスト、ソースコード、データいずれについても、読者がそれを用いたり又はそれに従って行動した結果について、著者は一切の責任を負いません。RAW現像を個人的に行って何らかの被害や損害が出るというのは考えにくいことではありますが、使用については各読者の責任の元行ってください。\n",
    "また、コードの再利用許可はコード中に含まれうる技術のライセンスを意味しません。著者はコードが何らかの特許等に抵触しないことを保証しません。"
   ]
  }
 ],
 "metadata": {
  "kernelspec": {
   "display_name": "Python 3",
   "language": "python",
   "name": "python3"
  },
  "language_info": {
   "codemirror_mode": {
    "name": "ipython",
    "version": 3
   },
   "file_extension": ".py",
   "mimetype": "text/x-python",
   "name": "python",
   "nbconvert_exporter": "python",
   "pygments_lexer": "ipython3",
   "version": "3.7.0"
  }
 },
 "nbformat": 4,
 "nbformat_minor": 2
}
