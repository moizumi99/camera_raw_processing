{
  "nbformat": 4,
  "nbformat_minor": 0,
  "metadata": {
    "colab": {
      "name": "camera_raw_chapter_6_1.ipynb",
      "version": "0.3.2",
      "provenance": []
    },
    "kernelspec": {
      "display_name": "Python 3",
      "language": "python",
      "name": "python3"
    }
  },
  "cells": [
    {
      "metadata": {
        "colab_type": "text",
        "id": "4jwut-7gzs8U"
      },
      "cell_type": "markdown",
      "source": [
        "# 応用編"
      ]
    },
    {
      "metadata": {
        "colab_type": "text",
        "id": "kPkuZGWjzs8V"
      },
      "cell_type": "markdown",
      "source": [
        "## 線形補間デモザイクの周波数特性"
      ]
    },
    {
      "metadata": {
        "colab_type": "text",
        "id": "ApD4indyzs8W"
      },
      "cell_type": "markdown",
      "source": [
        "### はじめに\n",
        "\n",
        "この章（応用編）ではより高度なデモザイクアルゴリズムを扱いますが、そのために若干アドバンストな数学的内容をとりあげます。\n",
        "\n",
        "もし画像処理の数学的な側面に興味のない方は数式や信号処理的な説明の部分は読み飛ばし、コードとその使い方にお進みくださっても問題ありません。"
      ]
    },
    {
      "metadata": {
        "colab_type": "text",
        "id": "_DX15dP-zs8X"
      },
      "cell_type": "markdown",
      "source": [
        "### この節について\n",
        "\n",
        "この節では以前の章で取り上げた線形補間デモザイクの特徴について調べて次の章の準備とします。\n",
        "\n",
        "このページ内の解説は簡略版です。 詳しい解説については技術書典6で配布した書籍「ゼロから作るRAW現像」を参照下さい。\n",
        "\n",
        "[目次ページに戻る](http://bit.ly/raw_toc)"
      ]
    },
    {
      "metadata": {
        "colab_type": "text",
        "id": "3ZBgkJKrzs8X"
      },
      "cell_type": "markdown",
      "source": [
        "### 準備\n",
        "\n",
        "まずモジュールのインポートと日本語の設定を行っておきます。"
      ]
    },
    {
      "metadata": {
        "colab_type": "code",
        "id": "KN3U7Apizs8Y",
        "outputId": "41d3b1b8-a8ce-4156-ab05-75b138d06ae2",
        "colab": {
          "base_uri": "https://localhost:8080/",
          "height": 107
        }
      },
      "cell_type": "code",
      "source": [
        "import numpy as np\n",
        "import matplotlib.pyplot as plt\n",
        "\n",
        "# 日本語フォントの設定\n",
        "!apt -y install fonts-ipafont-gothic\n",
        "plt.rcParams['font.family'] = 'IPAPGothic'"
      ],
      "execution_count": 0,
      "outputs": [
        {
          "output_type": "stream",
          "text": [
            "Reading package lists... Done\n",
            "Building dependency tree       \n",
            "Reading state information... Done\n",
            "fonts-ipafont-gothic is already the newest version (00303-18ubuntu1).\n",
            "0 upgraded, 0 newly installed, 0 to remove and 10 not upgraded.\n"
          ],
          "name": "stdout"
        }
      ]
    },
    {
      "metadata": {
        "colab_type": "code",
        "id": "JX2Tu0darfaK",
        "colab": {}
      },
      "cell_type": "code",
      "source": [
        "# もし日本語が文字化けしている場合以下の３行の行頭の#を削除して実行後、\n",
        "# import matplotlib\n",
        "# target_dir = matplotlib.get_cachedir()\n",
        "# ! rm {target_dir}/*.json\n",
        "# その後Runtime->Restart Runtime選択してページ全体を再実行"
      ],
      "execution_count": 0,
      "outputs": []
    },
    {
      "metadata": {
        "colab_type": "text",
        "id": "wxUpe5hYzs8e"
      },
      "cell_type": "markdown",
      "source": [
        "### 線形補間フィルターの周波数特性"
      ]
    },
    {
      "metadata": {
        "colab_type": "text",
        "id": "MBJOn3b9zs8f"
      },
      "cell_type": "markdown",
      "source": [
        "画像の周波数成分は低い部分に多いと考えると、サンプリング前の信号を取り出すには、低周波部分を取り出してやれば良いことになります。\n",
        "信号処理的にはローパスフィルターをかけます。\n",
        "\n",
        "ここで、線形補間の式から作ったフィルターを思い出すと、このような形をしていました。\n",
        "\n",
        "$$\n",
        "h_1 = \n",
        "\\begin{bmatrix}\n",
        "    0 & 1/4 &   0 \\\\\n",
        "  1/4 &   1 & 1/4 \\\\\n",
        "    0 & 1/4 &   0 \\\\\n",
        "\\end{bmatrix}\n",
        "$$\n",
        "\n",
        "これはそのものズバリ、ローパスフィルターです。\n",
        "\n",
        "この周波数特性はこのようになります。\n",
        "\n",
        "\\begin{eqnarray}\n",
        "H_1\\left(w, v\\right) \n",
        "&=& \\sum_{n=-1}^{1} \\sum_{m=-1}^{1} h_1 \\left(n, m\\right) e^{-i w n} e^{-i v m}\\\\\n",
        "&=& \\frac{1}{2} cos\\left( w \\right) + \\frac{1}{2} cos\\left( v \\right) + 1\n",
        "\\end{eqnarray}\n",
        "\n",
        "画像として表示してみましょう。"
      ]
    },
    {
      "metadata": {
        "colab_type": "code",
        "id": "NNehcSlMzs8f",
        "outputId": "ab15e4af-5fcb-4d86-e8e6-73eeaa4b9ae0",
        "colab": {
          "base_uri": "https://localhost:8080/",
          "height": 388
        }
      },
      "cell_type": "code",
      "source": [
        "# 横軸と縦軸の位置\n",
        "sample_num = 64\n",
        "ws = np.linspace(-np.pi, np.pi, sample_num)\n",
        "vs = np.linspace(-np.pi, np.pi, sample_num)\n",
        "\n",
        "# wsとvsを並べたもの。\n",
        "wmesh, vmesh = np.meshgrid(ws, vs, sparse=True)\n",
        "# 周波数特性\n",
        "f1 = np.cos(wmesh)/2 + np.cos(vmesh)/2 + 1\n",
        "# パワーを求めるために２乗\n",
        "f1 = f1 * f1\n",
        "\n",
        "# pyplotのcountourfを使って表示\n",
        "plt.figure(figsize=(6, 6))\n",
        "plt.imshow(f1, cmap='gray')\n",
        "plt.axis('off')\n",
        "plt.title(\"緑画素用線形補間フィルターの周波数特性\")\n",
        "plt.show()"
      ],
      "execution_count": 0,
      "outputs": [
        {
          "output_type": "display_data",
          "data": {
            "image/png": "[encoded data removed]",
            "text/plain": [
              "<Figure size 432x432 with 1 Axes>"
            ]
          },
          "metadata": {
            "tags": []
          }
        }
      ]
    },
    {
      "metadata": {
        "colab_type": "text",
        "id": "fGWksF79zs8n"
      },
      "cell_type": "markdown",
      "source": [
        "この図では明るい部分の値が大きく、暗い部分の値が小さくなっています。特に角の部分では０になります。\n",
        "\n",
        "先程のベイヤー画像の緑画素の周波数特性の図と比べると、ちょうど４つの角にあるエイリアシングの部分で周波数特性が０になり打ち消すようになっていることがわかります。"
      ]
    },
    {
      "metadata": {
        "colab_type": "text",
        "id": "u_4D_5hEzs8n"
      },
      "cell_type": "markdown",
      "source": [
        "### 赤・青画素の周波数特性とフィルター\n"
      ]
    },
    {
      "metadata": {
        "colab_type": "text",
        "id": "N3xxRPQgzs8q"
      },
      "cell_type": "markdown",
      "source": [
        "前回使用した赤・青画素線形補間用ののFIRフィルターはこうなっています。\n",
        "\n",
        "$$\n",
        "h_2 = \n",
        "\\begin{bmatrix}\n",
        "  1/4 & 1/2 & 1/4 \\\\\n",
        "  1/2 &   1 & 1/4 \\\\\n",
        "  1/4 & 1/2 & 1/4 \\\\\n",
        "\\end{bmatrix}\n",
        "$$\n",
        "\n",
        "\n",
        "周波数特性はこうです。\n",
        "\n",
        "\\begin{eqnarray}\n",
        "H_2\\left(w, v\\right) \n",
        "&=& \\sum_{n=-1}^{1} \\sum_{m=-1}^{1} h_2 \\left(n, m\\right) e^{-i w n} e^{-i v m} \\\\\n",
        "&=& \\left( 1 + cos\\left( w \\right) \\right) \\left( 1 + cos\\left( v \\right) \\right)\n",
        "\\end{eqnarray}\n",
        "\n",
        "図示してみましょう。"
      ]
    },
    {
      "metadata": {
        "colab_type": "code",
        "id": "fM1yDFvMzs8w",
        "outputId": "b5c1d2ef-6bf5-403c-e00e-f197c83ee888",
        "colab": {
          "base_uri": "https://localhost:8080/",
          "height": 388
        }
      },
      "cell_type": "code",
      "source": [
        "# 周波数特性\n",
        "f2 = (1 + np.cos(wmesh)) * (1 + np.cos(vmesh))\n",
        "# パワーを求めるために２乗\n",
        "f2 = f2 * f2\n",
        "\n",
        "# pyplotのcountourfを使って表示\n",
        "plt.figure(figsize=(6, 6))\n",
        "plt.imshow(f2, cmap='gray')\n",
        "plt.axis('off')\n",
        "plt.title(\"赤・青画素用線形補間フィルターの周波数特性\")\n",
        "plt.show()"
      ],
      "execution_count": 0,
      "outputs": [
        {
          "output_type": "display_data",
          "data": {
            "image/png": "[encoded data removed]",
            "text/plain": [
              "<Figure size 432x432 with 1 Axes>"
            ]
          },
          "metadata": {
            "tags": []
          }
        }
      ]
    },
    {
      "metadata": {
        "colab_type": "text",
        "id": "H-pyt-9wzs83"
      },
      "cell_type": "markdown",
      "source": [
        "ちょうと赤青画像のエイリアシングを取り除くような特性になっています。\n",
        "\n",
        "こうしてみると理想的なフィルター処理をしているように見えますが、実際の画像はだいぶぼやけていて、細かい模様の周りには偽色という本来ないはずの色がでてきています。\n",
        "\n",
        "画像のぼやけは、もともとの画像の周波数特性を十分にカバーしていないことを、偽色の存在は本来の信号とエイリアシングとが十分に分割できていない事を示しています。\n",
        "このような単純な形のフィルターの限界でしょう。"
      ]
    },
    {
      "metadata": {
        "colab_type": "text",
        "id": "xY6r63Bczs85"
      },
      "cell_type": "markdown",
      "source": [
        "### まとめ\n",
        "\n",
        "今回は線形補間デモザイクフィルターの周波数特性を調べてその問題点を調べてきました。\n",
        "\n",
        "次はこういった問題点を改善した[高度なデモザイク処理](http://bit.ly/raw_chap_6_2)に入ります。\n",
        "\n"
      ]
    }
  ]
}