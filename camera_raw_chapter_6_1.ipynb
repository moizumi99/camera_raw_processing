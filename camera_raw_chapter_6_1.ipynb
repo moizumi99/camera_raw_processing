{
 "cells": [
  {
   "cell_type": "markdown",
   "metadata": {},
   "source": [
    "# 6 応用編"
   ]
  },
  {
   "cell_type": "markdown",
   "metadata": {},
   "source": [
    "## 6.1 線形補間デモザイクの周波数特性"
   ]
  },
  {
   "cell_type": "markdown",
   "metadata": {},
   "source": [
    "### はじめに\n",
    "\n",
    "この章（応用編）ではより高度なデモザイクアルゴリズムを扱いますが、そのために若干アドバンストな数学的内容をとりあげます。\n",
    "\n",
    "もし画像処理の数学的な側面に興味のない方は数式や信号処理的な説明の部分は読み飛ばし、コードとその使い方にお進みくださっても問題ありません。"
   ]
  },
  {
   "cell_type": "markdown",
   "metadata": {},
   "source": [
    "### この節について\n",
    "\n",
    "この節では第４章で取り上げた線形補間デモザイクの特徴について調べて次の章の準備とします。\n",
    "\n",
    "この節のの内容はColabノートブックとして公開してあります。ノートブックを見るには[目次ページ](https://colab.research.google.com/github/moizumi99/camera_raw_processing/blob/master/camera_raw_toc.ipynb)から参照するか、以下のリンクを使ってアクセスしてください。\n",
    "\n",
    "https://colab.research.google.com/github/moizumi99/camera_raw_processing/blob/master/camera_raw_chapter_6_1.ipynb"
   ]
  },
  {
   "cell_type": "markdown",
   "metadata": {},
   "source": [
    "### 準備\n",
    "\n",
    "まずライブラリーのインストールと、モジュールのインポート、画像の読み込みを行います。今回もラズベリーパイで撮影したチャート画像を使用します。\n",
    "内容については各節を参照ください。"
   ]
  },
  {
   "cell_type": "code",
   "execution_count": 1,
   "metadata": {
    "collapsed": true
   },
   "outputs": [
    {
     "name": "stdout",
     "output_type": "stream",
     "text": [
      "Requirement already satisfied: rawpy in /home/moiz/anaconda3/lib/python3.7/site-packages (0.13.0)\n",
      "Requirement already satisfied: numpy in /home/moiz/anaconda3/lib/python3.7/site-packages (from rawpy) (1.15.1)\n",
      "\u001b[33mYou are using pip version 19.0.1, however version 19.0.2 is available.\n",
      "You should consider upgrading via the 'pip install --upgrade pip' command.\u001b[0m\n",
      "Requirement already satisfied: imageio in /home/moiz/anaconda3/lib/python3.7/site-packages (2.4.1)\n",
      "\u001b[33mYou are using pip version 19.0.1, however version 19.0.2 is available.\n",
      "You should consider upgrading via the 'pip install --upgrade pip' command.\u001b[0m\n",
      "E: Could not open lock file /var/lib/dpkg/lock-frontend - open (13: Permission denied)\n",
      "E: Unable to acquire the dpkg frontend lock (/var/lib/dpkg/lock-frontend), are you root?\n"
     ]
    }
   ],
   "source": [
    "# rawpyとimageioのインストール\n",
    "!pip install rawpy;\n",
    "!pip install imageio;\n",
    "\n",
    "# rawpy, imageio, numpuy, pyplot, imshowのインポート\n",
    "import rawpy, imageio\n",
    "import numpy as np\n",
    "import matplotlib.pyplot as plt\n",
    "from matplotlib.pyplot import imshow\n",
    "\n",
    "# 前節までに作成したモジュールのダウンロードとインポート\n",
    "!if [ ! -f raw_process.py ]; then wget https://github.com/moizumi99/camera_raw_processing/raw/master/raw_process.py; fi\n",
    "from raw_process import simple_demosaic, white_balance, black_level_correction, gamma_correction\n",
    "from raw_process import demosaic, defect_correction, color_correction_matrix, lens_shading_correction\n",
    "from raw_process import noise_filter, apply_matrix, edge_enhancement, tone_curve_correction\n",
    "\n",
    "# 日本語フォントの設定\n",
    "!apt -y install fonts-ipafont-gothic\n",
    "plt.rcParams['font.family'] = 'IPAPGothic'\n",
    "# もし日本語が文字化けしている場合`! rm /content/.cache/matplotlib/fontList.json`を実行して、\n",
    "# Runtime->Restart Runtimeで再実行\n",
    "\n",
    "# 画像をダウンロードします。\n",
    "!if [ ! -f chart.jpg ]; then wget https://github.com/moizumi99/camera_raw_processing/raw/master/chart.jpg; fi\n",
    "\n",
    "# 自分で撮影した画像を使用する場合は以下のコメントを取り除きアップロードします。\n",
    "# from google.colab import files\n",
    "# uploaded = files.upload()\n",
    "\n",
    "# RAWファイルの名前。\n",
    "# アップロードしたファイルを使う場合はその名前に変更。\n",
    "raw_file  = \"chart.jpg\"\n",
    "raw = rawpy.imread(raw_file)\n",
    "raw_array = raw.raw_image\n",
    "h, w = raw_array.shape"
   ]
  },
  {
   "cell_type": "markdown",
   "metadata": {},
   "source": [
    "### 線形補間デモザイク処理の分析\n",
    "\n",
    "_この節は、画像処理の理論的背景に興味がない方は読み飛ばして構いません。_\n",
    "\n",
    "それではまず、前回のデモザイク処理の問題点を分析してみましょう。\n",
    "\n",
    "前回の記事の最後で、線形補間処理をFIRフィルターとして書き換える作業を行いました。これは処理の高速化を念頭においたものですが、FIRを使った画像処理として解釈することもできます。\n",
    "\n",
    "まず、ベイヤー配列のある特定の色の画素は、もともとのフル解像度の画像に、位置によって0または１を取るサンプリング関数を画像にかけたものと解釈する事ができます。\n",
    "\n",
    "![ベイヤー配列上の緑画素](https://github.com/moizumi99/camera_raw_processing/raw/master/fig6_1_1.png)\n",
    "\n",
    "これを数式で表すとこうなります。\n",
    "\n",
    "$$ \\displaystyle f_G(x, y) = f(x, y) \\cdotp s(x, y) $$\n",
    "\n",
    "$$ \\displaystyle \n",
    "s(x, y) = \n",
    "\\begin{cases}\n",
    "0   \\text{  if } x \\mod 2 = y \\mod 2 \\\\\\\n",
    "1  \\text{  otherwise}\n",
    "\\end{cases}\n",
    "$$\n",
    "\n",
    "$ s(x, y) $はさらに\n",
    "\n",
    "$$\n",
    "\\begin{eqnarray}\n",
    "s \\left ( x, y \\right )  =  \\frac{1}{2} \\left ( 1 - \\left ( -1 \\right ) ^ {x + y} \\right ) \\\\\n",
    " = \\frac{1}{2} \\left ( 1 - e ^ {i \\pi \\left ( x + y \\right ) } \\right )\n",
    "\\end{eqnarray}\n",
    "$$\n",
    "\n",
    "とかけます。\n",
    "たとえば$ x $と$ y $の和が偶数だと\n",
    "\n",
    "$$ e ^ {i \\pi \\left ( x + y \\right )} = 1 $$\n",
    "\n",
    "になり、奇数だと\n",
    "\n",
    "$$ e ^ {i \\pi \\left ( x + y \\right )} = -1 $$\n",
    "\n",
    "になることを利用しています。\n",
    "\n",
    "したがって、元の式は\n",
    "\n",
    "$$\n",
    "\\begin{eqnarray}\n",
    "f_{G} \\left ( x, y \\right ) =  \\frac{1}{2} f_{full}\\left ( 1 - \\left ( -1 \\right ) ^ {x + y} \\right ) \\\\\n",
    "= \\frac{1}{2} \\left ( f_{full} - f_{full} e ^ {i \\pi \\left ( x + y \\right ) } \\right )\n",
    "\\end{eqnarray}\n",
    "$$\n",
    "\n",
    "と表されます。この式の後半は、元の関数をx軸方向とy軸方向に$ \\pi$ずつずらし、元の信号から引く事を意味します。"
   ]
  },
  {
   "cell_type": "markdown",
   "metadata": {},
   "source": [
    "さて、この画像をフーリエ変換して周波数特性を求めたらどのようになるでしょうか？$ f_G $ をフーリエ変換したものを$ F_G $とすると、\n",
    "\n",
    "$$\n",
    "\\begin{eqnarray}\n",
    "F_G \\left( w, v \\right ) &=& \\int f_G \\left ( x, y \\right) e ^ {i w} e ^ {i v} dx dy \\\\\n",
    "&=& \\int \\frac{1}{2} \\left (\n",
    "    f \\left( x, y \\right) - f \\left( x, y \\right ) e ^ {\\pi i \\left( x + y \\right) } \n",
    "    \\right ) e ^ {i w} e ^ {i v} dx dy\n",
    "\\end{eqnarray}\n",
    "$$\n",
    "\n",
    "ここで元の$ f \\left( x, y \\right) $をフーリエ変換したものを $F(w, v)$とすると、\n",
    "\n",
    "$$\n",
    "F\\left( w, v \\right) = \\int f \\left( x, y  \\right )  e ^ {i w x} e ^ {i v y} dx dy\n",
    "$$\n",
    "\n",
    "なので、\n",
    "\n",
    "$$\n",
    "\\begin{eqnarray}\n",
    "F_G \\left( w, v \\right ) \n",
    "&=& \\frac{1}{2} F \\left( x, y \\right) - \\frac{1}{2} \\int f \\left( x, y \\right ) e ^ {\\pi i \\left( x + y \\right) } \n",
    "    e ^ {i w} e ^ {i v} dx dy\n",
    "\\end{eqnarray}\n",
    "$$\n",
    "\n",
    "ここで、\n",
    "\n",
    "$$\n",
    "\\begin{eqnarray}\n",
    "\\int f \\left( x, y \\right ) e ^ {\\pi i \\left( x + y \\right) } e ^ {i w} e ^ {i v} dx dy\n",
    "&=& \\int f \\left( x, y \\right ) e ^ {i \\left( w + \\pi \\right ) x } e ^ {i \\left( v + \\pi \\right) y} dx dy \\\\\n",
    "&=& F\\left(w + \\pi, v + \\pi \\right) \n",
    "\\end{eqnarray}\n",
    "$$\n",
    "\n",
    "を利用すると\n",
    "\n",
    "$$\n",
    "F_G \\left( w, v \\right ) = \\frac{1}{2} F\\left( x, y \\right) - \\frac{1}{2} F\\left( x + \\pi, y + \\pi\\right)\n",
    "$$\n",
    "\n",
    "となります。\n",
    "\n",
    "これは$\\frac{1}{2}$の係数をのぞけば、元の画像の周波数特性を周波数軸上に$pi$だけずらすしてもとの画像から引いたものです。"
   ]
  },
  {
   "cell_type": "markdown",
   "metadata": {},
   "source": [
    "つまり、もし元の画像の周波数特性が模式的にこのように表されるとしたら、\n",
    "\n",
    "![元画像の周波数特性の模式図](https://github.com/moizumi99/camera_raw_processing/raw/master/fig6_1_2.png)\n",
    "\n",
    "Bayer上の緑画素の周波数特性はこのようになります。\n",
    "\n",
    "![エイリアスを起こした画像の周波数特性](https://github.com/moizumi99/camera_raw_processing/raw/master/fig6_1_3.png)\n",
    "\n",
    "青い部分が、全式の後半部分にできたもので元の画像の一部を定間隔でとりだした（サブサンプリング）したためにできた副生成物（アーティファクト）です。このような副生成物をエイリアシングとよびます[^1]。\n",
    "\n",
    "[^1]: 通常の画像で拡大縮小などによってエイリアシングがおきると、高周波成分が低い周波数に干渉してモアレなどを生成することがしられています。\n",
    "\n",
    "画像の周波数成分は低い部分に多いと考えると、サンプリング前の信号を取り出すには、低周波部分を取り出してやれば良いことになります。\n",
    "信号処理的にはローパスフィルターをかけます。"
   ]
  },
  {
   "cell_type": "markdown",
   "metadata": {},
   "source": [
    "ここで、線形補間の式から作ったフィルターを思い出すと、このような形をしていました。\n",
    "\n",
    "$$\n",
    "h_1 = \n",
    "\\begin{bmatrix}\n",
    "    0 & 1/4 &   0 \\\\\n",
    "  1/4 &   1 & 1/4 \\\\\n",
    "    0 & 1/4 &   0 \\\\\n",
    "\\end{bmatrix}\n",
    "$$\n",
    "\n",
    "これはそのものズバリ、ローパスフィルターです。周波数特性はこんな感じになります。\n",
    "\n",
    "この周波数特性はこのようになります。\n",
    "$$\n",
    "\\begin{eqnarray}\n",
    "H_1\\left(w, v\\right) \n",
    "&=& \\sum_{x=-1}^{1} \\sum_{y=-1}^{1} h_1 \\left(x, y\\right) e^{\\pi \\left(w x + v y \\right)} \\\\\n",
    "&=& \\frac{1}{2} cos\\left( w \\right) + \\frac{1}{2} cos\\left( v \\right) + 1\n",
    "\\end{eqnarray}\n",
    "$$\n",
    "\n",
    "画像として表示してみましょう。"
   ]
  },
  {
   "cell_type": "code",
   "execution_count": 15,
   "metadata": {},
   "outputs": [
    {
     "data": {
      "image/png": "[encoded data removed]",
      "text/plain": [
       "<Figure size 432x432 with 1 Axes>"
      ]
     },
     "metadata": {
      "needs_background": "light"
     },
     "output_type": "display_data"
    }
   ],
   "source": [
    "import numpy as np\n",
    "import matplotlib.pyplot as plt\n",
    "\n",
    "# 横軸と縦軸の位置\n",
    "sample_num = 64\n",
    "ws = np.linspace(-math.pi, math.pi, sample_num)\n",
    "vs = np.linspace(-math.pi, math.pi, sample_num)\n",
    "\n",
    "# wsとvsを並べたもの。\n",
    "wmesh, vmesh = np.meshgrid(ws, vs, sparse=True)\n",
    "# 周波数特性\n",
    "f1 = np.cos(wmesh)/2 + np.cos(vmesh)/2 + 1\n",
    "# パワーを求めるために２乗\n",
    "f1 = f1 * f1\n",
    "\n",
    "# pyplotのcountourfを使って表示\n",
    "plt.figure(figsize=(6, 6))\n",
    "plt.imshow(f1, cmap='gray')\n",
    "plt.axis('off')\n",
    "plt.title(\"緑画素用線形補間フィルターの周波数特性\")\n",
    "plt.show()"
   ]
  },
  {
   "cell_type": "markdown",
   "metadata": {},
   "source": [
    "この図では明るい部分の値が大きく、暗い部分の値が小さくなっています。特に角の部分では０になります。\n",
    "\n",
    "先程のベイヤー画像の緑画素の周波数特性の図と比べると、ちょうど４つの角にあるエイリアシングの部分で周波数特性が０になり打ち消すようになっていることがわかります。"
   ]
  },
  {
   "cell_type": "markdown",
   "metadata": {},
   "source": [
    "同様に、赤画素のサンプリング関数は、\n",
    "\n",
    "\\begin{equation}\n",
    "s_R \\left ( x, y \\right ) =  \\frac{1}{4} \\left ( 1 + \\left ( -1 \\right ) ^ x \\right ) \\left ( 1 + \\left ( -1 \\right ) ^ y \\right ) \n",
    "=  \\frac{1}{4} \\left ( 1 + e ^ {i \\pi x} \\right ) \\left ( 1 + e ^ {i \\pi y} \\right )  \n",
    "\\end{equation}\n",
    "\n",
    "で、青画素は、\n",
    "\n",
    "\\begin{equation}\n",
    "s_B \\left ( x, y \\right ) =  \\frac{1}{4} \\left ( 1 - \\left ( -1 \\right ) ^ x \\right ) \\left ( 1 - \\left ( -1 \\right ) ^ y \\right ) \n",
    "=  \\frac{1}{4} \\left ( 1 - e ^ {i \\pi x} \\right ) \\left ( 1 - e ^ {i \\pi y} \\right )  \n",
    "\\end{equation}\n",
    "\n",
    "符号を無視すると周波数特性はどちらも同じになり、エイリアシングの様子はこうなります。\n",
    "\n",
    "![ベイヤー内の赤・青画像の周波数特性](https://github.com/moizumi99/camera_raw_processing/raw/master/fig6_1_4.png)\n",
    "\n",
    "緑の画素にくらべて、エイリアシングの影響を受ける領域が大きくなっています。したがって、緑よりも強めのローパスフィルターをかける必要があることが予想されます。"
   ]
  },
  {
   "cell_type": "markdown",
   "metadata": {},
   "source": [
    "前回使用した赤・青画素線形補間用ののFIRフィルターはこうなっています。\n",
    "\n",
    "$$\n",
    "h_2 = \n",
    "\\begin{bmatrix}\n",
    "  1/4 & 1/2 & 1/4 \\\\\n",
    "  1/2 &   1 & 1/4 \\\\\n",
    "  1/4 & 1/2 & 1/4 \\\\\n",
    "\\end{bmatrix}\n",
    "$$\n",
    "\n",
    "\n",
    "周波数特性はこうです。\n",
    "\n",
    "$$\n",
    "\\begin{eqnarray}\n",
    "H_2\\left(w, v\\right) \n",
    "&=& \\sum_{x=-1}^{1} \\sum_{y=-1}^{1} h_2 \\left(x, y\\right) e^{\\pi \\left(w x + v y \\right)} \\\\\n",
    "&=& \\left( 1 + cos\\left( w \\right) \\right) \\left( 1 + cos\\left( v \\right) \\right)\n",
    "\\end{eqnarray}\n",
    "$$\n",
    "\n",
    "図示してみましょう。"
   ]
  },
  {
   "cell_type": "code",
   "execution_count": 19,
   "metadata": {},
   "outputs": [
    {
     "data": {
      "image/png": "[encoded data removed]",
      "text/plain": [
       "<Figure size 432x432 with 1 Axes>"
      ]
     },
     "metadata": {
      "needs_background": "light"
     },
     "output_type": "display_data"
    }
   ],
   "source": [
    "# 周波数特性\n",
    "f2 = (1 + np.cos(wmesh)) * (1 + np.cos(vmesh))\n",
    "# パワーを求めるために２乗\n",
    "f2 = f2 * f2\n",
    "\n",
    "# pyplotのcountourfを使って表示\n",
    "plt.figure(figsize=(6, 6))\n",
    "plt.imshow(f2, cmap='gray')\n",
    "plt.axis('off')\n",
    "plt.title(\"赤・青画素用線形補間フィルターの周波数特性\")\n",
    "plt.show()"
   ]
  },
  {
   "cell_type": "markdown",
   "metadata": {},
   "source": [
    "ちょうと赤青画像のエイリアシングを取り除くような特性になっています。\n",
    "\n",
    "こうしてみると理想的なフィルター処理をしているように見えますが、実際の画像はだいぶぼやけていて、偽色という本来ないはずの色がでてきています。\n",
    "\n",
    "画像のぼやけは、もともとの画像の周波数特性を十分にカバーしていないことを、偽色の存在は本来の信号とエイリアシングとが十分に分割できていない事を示しています。\n",
    "このような単純な形のフィルターの限界でしょう。"
   ]
  },
  {
   "cell_type": "markdown",
   "metadata": {},
   "source": [
    "### まとめ\n",
    "\n",
    "今回は線形補間デモザイクフィルターの周波数特性を調べてその問題点を調べてきました。\n",
    "\n",
    "次はこういった問題点を改善した[高度なデモザイク処理](https://colab.research.google.com/github/moizumi99/camera_raw_processing/blob/master/camera_raw_chapter_6_1.ipynb)に入ります。\n",
    "\n"
   ]
  },
  {
   "cell_type": "code",
   "execution_count": null,
   "metadata": {},
   "outputs": [],
   "source": []
  }
 ],
 "metadata": {
  "kernelspec": {
   "display_name": "Python 3",
   "language": "python",
   "name": "python3"
  },
  "language_info": {
   "codemirror_mode": {
    "name": "ipython",
    "version": 3
   },
   "file_extension": ".py",
   "mimetype": "text/x-python",
   "name": "python",
   "nbconvert_exporter": "python",
   "pygments_lexer": "ipython3",
   "version": "3.7.0"
  }
 },
 "nbformat": 4,
 "nbformat_minor": 2
}
