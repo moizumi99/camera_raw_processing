{
  "nbformat": 4,
  "nbformat_minor": 0,
  "metadata": {
    "colab": {
      "name": "camera_raw_appendix.ipynb",
      "version": "0.3.2",
      "provenance": []
    },
    "kernelspec": {
      "display_name": "Python 3",
      "language": "python",
      "name": "python3"
    }
  },
  "cells": [
    {
      "metadata": {
        "colab_type": "text",
        "id": "4jwut-7gzs8U"
      },
      "cell_type": "markdown",
      "source": [
        "# Appendix"
      ]
    },
    {
      "metadata": {
        "colab_type": "text",
        "id": "kPkuZGWjzs8V"
      },
      "cell_type": "markdown",
      "source": [
        "## Colaboratoryの簡単な使い方"
      ]
    },
    {
      "metadata": {
        "colab_type": "text",
        "id": "ApD4indyzs8W"
      },
      "cell_type": "markdown",
      "source": [
        "### はじめに\n",
        "\n",
        "ここではGoogle Colabの簡単な使い方とエラーが出た場合の対処法を解説します。\n",
        "\n",
        "[目次ページに戻る](http://bit.ly/raw_toc)"
      ]
    },
    {
      "metadata": {
        "colab_type": "text",
        "id": "0zs3LFVK2UJZ"
      },
      "cell_type": "markdown",
      "source": [
        "### Google Colaboratoryについて\n",
        "\n",
        "  Colaboratory (以下Colab)はGoogleのサービスで、ウェブブラウザだけでJupyter Notebookのような機能が使える便利なサービスです。\n",
        "  \n",
        "公式なドキュメントとしては英語ですがこちらがあります。\n",
        "  \n",
        "https://colab.research.google.com/notebooks/welcome.ipynb\n",
        "  \n",
        "日本語ではWebにいくつか解説があるようです。\n",
        "例えば、[からあげ氏](https://karaage.hatenadiary.jp/)の以下の記事などがわかりやすいものになっています。\n",
        "\n",
        "[Google Colaboratoryを使えば環境構築不要・無料でPythonの機械学習ができて最高](https://karaage.hatenadiary.jp/entry/2018/03/21/073000)\n",
        "\n",
        "この付録１ではこの本の内容を実行する方法にしぼって説明します。"
      ]
    },
    {
      "metadata": {
        "colab_type": "text",
        "id": "XRNXKXSn3o7m"
      },
      "cell_type": "markdown",
      "source": [
        "### 実行方法\n",
        "\n",
        "まず目次ページ (https://bit.ly/raw_toc) から実行したい項目へのリンクを選択します。\n",
        "\n",
        "![目次ページ](https://github.com/moizumi99/camera_raw_processing/raw/master/Figures/TOC.png)"
      ]
    },
    {
      "metadata": {
        "colab_type": "text",
        "id": "iyq6wNGO65Pt"
      },
      "cell_type": "markdown",
      "source": [
        "本文が開かれます。\n",
        "\n",
        "![本文](https://github.com/moizumi99/camera_raw_processing/raw/master/Figures/Execute.png)\n",
        "\n",
        "Shift + Enterを押すか、各項目左上の三角ボタンアイコンを押すとそれぞれの項目が実行されます。\n",
        "\n",
        "ページを表示した後最初の実行時にはこのようなワーニングが表示されます。\n",
        "\n",
        "![ワーニング表示](https://github.com/moizumi99/camera_raw_processing/raw/master/Figures/warning.png)\n",
        "\n",
        "ロードしたページが目的のページであることを確認して、RUN ANYWAYを選択してください。その際Reset all runtimes before running のチェックを外すとライブラリのインストールや日本語フォントのインストールなどを繰り返す必用がなくなります。ただしメモリ不足等でエラーが発生する可能性があがるので、そのようなエラーに遭遇する場合はチェックをつけておくと改善が期待できます。\n",
        "\n",
        "なお、万が一読者が誤って悪意のあるページの内容を実行したとしても、作者はいかなる責任も負いかねます。実行の際は正しいURLを指定したことを確認してください。また実行は各読者の責任のもとで行ってください。\n",
        "\n",
        "実行を開始するとアイコンの形がこのように変わります。\n",
        "\n",
        "![実行中](https://github.com/moizumi99/camera_raw_processing/raw/master/Figures/running.png)\n",
        "\n",
        "終了するとアイコンのあった位置に数字が入ります。\n",
        "\n",
        "![実行完了](https://github.com/moizumi99/camera_raw_processing/raw/master/Figures/running_done.png)\n",
        "\n"
      ]
    },
    {
      "metadata": {
        "colab_type": "text",
        "id": "3JGWorlO_mnE"
      },
      "cell_type": "markdown",
      "source": [
        "### 日本語が正常に表示されない場合\n",
        "\n",
        "もし日本語部分が正常に表示されなかった場合次の用にします。\n",
        "\n",
        "まずページ中で以下のような部分を探します。\n",
        "\n",
        "![文字化け対処方](https://github.com/moizumi99/camera_raw_processing/raw/master/Figures/Fix_Japanese_1.png)\n",
        "\n",
        "この中で２行目から４行目までの行頭の#を削除します。\n",
        "\n",
        "![文字化け対処実行](https://github.com/moizumi99/camera_raw_processing/raw/master/Figures/Fix_Japanese_2.png)\n",
        "\n",
        "Shift + Enterを押すか、三角ボタンアイコンを押して実行します。\n",
        "\n",
        "![文字化け対処実行中](https://github.com/moizumi99/camera_raw_processing/raw/master/Figures/Fix_Japanese_3.png)\n",
        "\n",
        "終了後は#を戻しておきます。\n",
        "\n",
        "![元にもどす](https://github.com/moizumi99/camera_raw_processing/raw/master/Figures/Fix_Japanese_1.png)\n",
        "\n",
        "メニューからRuntime -> Runtime Restartを選択します。\n",
        "\n",
        "![ランタイムリスタート](https://github.com/moizumi99/camera_raw_processing/raw/master/Figures/restart.png)\n",
        "\n",
        "再びページ内容を実行し日本語表示を確認します。"
      ]
    },
    {
      "metadata": {
        "colab_type": "text",
        "id": "ZU2gp_QOCpa1"
      },
      "cell_type": "markdown",
      "source": [
        "### 実行エラーが出た場合\n",
        "\n",
        "画像処理は大量のメモリーを消費するので続けて処理を行うとColaboratoryがエラーを起こして異常終了することがあります。\n",
        "そのような場合すべてのランタイムをリセットすることで症状が確認する場合があります。\n",
        "\n",
        "![すべてのランタイムをリセット](https://github.com/moizumi99/camera_raw_processing/raw/master/Figures/reset_all.png)"
      ]
    },
    {
      "metadata": {
        "colab_type": "text",
        "id": "xY6r63Bczs85"
      },
      "cell_type": "markdown",
      "source": [
        "### まとめ\n",
        "\n",
        "この本の内容をColabで実行する方法とエラーの対処法について説明しました。\n",
        "\n",
        "[付録2](http://bit.ly/raw_appendix_2)ではRAW画像の撮影方法を説明します。\n"
      ]
    }
  ]
}