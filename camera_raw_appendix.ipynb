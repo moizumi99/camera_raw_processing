{
 "cells": [
  {
   "cell_type": "markdown",
   "metadata": {
    "colab_type": "text",
    "id": "4jwut-7gzs8U"
   },
   "source": [
    "# Appendix"
   ]
  },
  {
   "cell_type": "markdown",
   "metadata": {
    "colab_type": "text",
    "id": "kPkuZGWjzs8V"
   },
   "source": [
    "## Colaboratoryの簡単な使い方"
   ]
  },
  {
   "cell_type": "markdown",
   "metadata": {
    "colab_type": "text",
    "id": "ApD4indyzs8W"
   },
   "source": [
    "### はじめに\n",
    "\n",
    "ここではGoogle Colabの簡単な使い方とエラーが出た場合の対処法を解説します。\n",
    "\n",
    "この節のの内容はColabノートブックとして公開してあります。ノートブックを見るには[目次ページ](http://bit.ly/raw_toc)から参照するか、以下のリンクを使ってアクセスしてください。\n",
    "\n",
    "http://bit.ly/raw_appendix_1"
   ]
  },
  {
   "cell_type": "markdown",
   "metadata": {
    "colab_type": "text",
    "id": "0zs3LFVK2UJZ"
   },
   "source": [
    "### Google Colaboratoryについて\n",
    "\n",
    "  Colaboratory (以下Colab)はGoogleのサービスで、ウェブブラウザだけでJupyter Notebookのような機能が使える便利なサービスです。\n",
    "  \n",
    "公式なドキュメントとしては英語ですがこちらがあります。\n",
    "  \n",
    "https://colab.research.google.com/notebooks/welcome.ipynb\n",
    "  \n",
    "日本語ではWebにいくつか解説があるようです。\n",
    "例えば、[からあげ氏](https://karaage.hatenadiary.jp/)の以下の記事などがわかりやすいものになっています。\n",
    "\n",
    "[Google Colaboratoryを使えば環境構築不要・無料でPythonの機械学習ができて最高](https://karaage.hatenadiary.jp/entry/2018/03/21/073000)\n",
    "\n",
    "この付録１ではこの本の内容を実行する方法にしぼって説明します。"
   ]
  },
  {
   "cell_type": "markdown",
   "metadata": {
    "colab_type": "text",
    "id": "XRNXKXSn3o7m"
   },
   "source": [
    "### 実行方法\n",
    "\n",
    "まず目次ページ (https://bit.ly/raw_toc) から実行したい項目へのリンクを選択します。\n",
    "\n",
    "![目次ページ](https://github.com/moizumi99/camera_raw_processing/raw/master/Figures/TOC.png)"
   ]
  },
  {
   "cell_type": "markdown",
   "metadata": {
    "colab_type": "text",
    "id": "iyq6wNGO65Pt"
   },
   "source": [
    "本文が開かれます。\n",
    "\n",
    "![本文](https://github.com/moizumi99/camera_raw_processing/raw/master/Figures/Execute.png)\n",
    "\n",
    "Shift + Enterを押すか、各項目左上の三角ボタンアイコンを押すとそれぞれの項目が実行されます。\n",
    "\n",
    "ページを表示した後最初の実行時にはこのようなワーニングが表示されます。\n",
    "\n",
    "![ワーニング表示](https://github.com/moizumi99/camera_raw_processing/raw/master/Figures/warning.png)\n",
    "\n",
    "ロードしたページが目的のページであることを確認して、Reset all runtimes before running のチェックを外し、RUN ANYWAYを選択してください。\n",
    "\n",
    "なお、万が一読者が誤って悪意のあるページの内容を実行したとしても、作者はいかなる責任も負いかねます。実行は各読者の責任のもとで行ってください。\n",
    "\n",
    "アイコンが実行中の形に変わります。\n",
    "\n",
    "![実行中](https://github.com/moizumi99/camera_raw_processing/raw/master/Figures/running.png)\n",
    "\n",
    "終了するとアイコンのあった位置に数字が入ります。\n",
    "\n",
    "![実行完了](https://github.com/moizumi99/camera_raw_processing/raw/master/Figures/running_done.png)\n",
    "\n"
   ]
  },
  {
   "cell_type": "markdown",
   "metadata": {
    "colab_type": "text",
    "id": "3JGWorlO_mnE"
   },
   "source": [
    "### 日本語が正常に表示されない場合\n",
    "\n",
    "もし日本語部分が正常に表示されなかった場合次の用にします。\n",
    "\n",
    "まずページ中で以下のような部分を探します。\n",
    "\n",
    "![文字化け対処方](https://github.com/moizumi99/camera_raw_processing/raw/master/Figures/Fix_Japanese_1.png)\n",
    "\n",
    "この中で２行目から４行目までの行頭の#を削除します。\n",
    "\n",
    "![文字化け対処実行](https://github.com/moizumi99/camera_raw_processing/raw/master/Figures/Fix_Japanese_2.png)\n",
    "\n",
    "Shift + Enterを押すか、三角ボタンアイコンを押して実行します。\n",
    "\n",
    "![文字化け対処実行中](https://github.com/moizumi99/camera_raw_processing/raw/master/Figures/Fix_Japanese_3.png)\n",
    "\n",
    "終了後は#を戻しておきます。\n",
    "\n",
    "![元にもどす](https://github.com/moizumi99/camera_raw_processing/raw/master/Figures/Fix_Japanese_1.png)\n",
    "\n",
    "メニューからRuntime -> Runtime Restartを選択します。\n",
    "\n",
    "![ランタイムリスタート](https://github.com/moizumi99/camera_raw_processing/raw/master/Figures/restart.png)\n",
    "\n",
    "再びページ内容を実行し日本語表示を確認します。"
   ]
  },
  {
   "cell_type": "markdown",
   "metadata": {
    "colab_type": "text",
    "id": "ZU2gp_QOCpa1"
   },
   "source": [
    "### 実行エラーが出た場合\n",
    "\n",
    "画像処理は大量のメモリーを消費するので続けて処理を行うとColaboratoryがエラーを起こして異常終了することがあります。\n",
    "そのような場合すべてのランタイムをリセットすることで症状が確認する場合があります。\n",
    "\n",
    "![すべてのランタイムをリセット](https://github.com/moizumi99/camera_raw_processing/raw/master/Figures/reset_all.png)"
   ]
  },
  {
   "cell_type": "markdown",
   "metadata": {
    "colab_type": "text",
    "id": "xY6r63Bczs85"
   },
   "source": [
    "### まとめ\n",
    "\n",
    "この本の内容をColabで実行する方法とエラーの対処法について説明しました。\n",
    "\n",
    "[付録2](http://bit.ly/raw_appendix_2)ではRAW画像の撮影方法を説明します。\n"
   ]
  }
 ],
 "metadata": {
  "colab": {
   "name": "camera_raw_appendix.ipynb",
   "provenance": [],
   "version": "0.3.2"
  },
  "kernelspec": {
   "display_name": "Python 3",
   "language": "python",
   "name": "python3"
  },
  "language_info": {
   "codemirror_mode": {
    "name": "ipython",
    "version": 3
   },
   "file_extension": ".py",
   "mimetype": "text/x-python",
   "name": "python",
   "nbconvert_exporter": "python",
   "pygments_lexer": "ipython3",
   "version": "3.7.0"
  }
 },
 "nbformat": 4,
 "nbformat_minor": 1
}
