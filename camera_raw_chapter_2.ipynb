{
  "nbformat": 4,
  "nbformat_minor": 0,
  "metadata": {
    "colab": {
      "name": "camera_raw_chapter_2.ipynb",
      "version": "0.3.2",
      "provenance": [],
      "collapsed_sections": []
    },
    "kernelspec": {
      "display_name": "Python 3",
      "language": "python",
      "name": "python3"
    }
  },
  "cells": [
    {
      "metadata": {
        "colab_type": "text",
        "id": "fHOf-3ifawuQ"
      },
      "cell_type": "markdown",
      "source": [
        "# カメラ画像処理について"
      ]
    },
    {
      "metadata": {
        "colab_type": "text",
        "id": "fAAldEyCbA4x"
      },
      "cell_type": "markdown",
      "source": [
        "## カメラ画像処理について\n",
        "\n",
        "### この章について\n",
        "\n",
        "この章ではカメラのしくみやRAW画像からはじめて、カメラ画像処理やRAW現像ソフトの中でどのような処理が行われているのかを説明します。\n",
        "\n",
        "この章の内容については技術書典6で配布した書籍「ゼロから作るRAW現像」を参照下さい。"
      ]
    },
    {
      "metadata": {
        "colab_type": "text",
        "id": "kjpVJ5drDfXK"
      },
      "cell_type": "markdown",
      "source": [
        "### この章のまとめ\n",
        "\n",
        "カメラ内部の仕組みとRAW現像処理・カメラ画像処理を、画像処理の観点から説明しました。\n",
        "\n",
        "### 次の章\n",
        "\n",
        "次は[RAW画像の準備](http://bit.ly/raw_chap_3)を行います。"
      ]
    }
  ]
}