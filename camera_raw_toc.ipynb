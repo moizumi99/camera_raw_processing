{
  "nbformat": 4,
  "nbformat_minor": 0,
  "metadata": {
    "colab": {
      "name": "camera_raw_toc.ipynb",
      "version": "0.3.2",
      "provenance": [],
      "collapsed_sections": [],
      "include_colab_link": true
    },
    "kernelspec": {
      "display_name": "Python 3",
      "language": "python",
      "name": "python3"
    }
  },
  "cells": [
    {
      "cell_type": "markdown",
      "metadata": {
        "id": "view-in-github",
        "colab_type": "text"
      },
      "source": [
        "<a href=\"https://colab.research.google.com/github/moizumi99/camera_raw_processing/blob/master/camera_raw_toc.ipynb\" target=\"_parent\"><img src=\"https://colab.research.google.com/assets/colab-badge.svg\" alt=\"Open In Colab\"/></a>"
      ]
    },
    {
      "metadata": {
        "colab_type": "text",
        "id": "Xj1ZQOchgXh7"
      },
      "cell_type": "markdown",
      "source": [
        "\n",
        "# PythonとColabで作る - RAW画像処理入門\n",
        "\n",
        "\n",
        "## 目次\n",
        "\n",
        "1. [はじめに](http://bit.ly/raw_chap_1)\n",
        "\n",
        "\n",
        "2. [カメラ画像処理について](http://bit.ly/raw_chap_2)\n",
        "\n",
        "\n",
        "3. [基本的な処理](http://bit.ly/raw_chap_3)\n",
        "\n",
        "  3.1 [準備](http://bit.ly/raw_chap_3_1)\n",
        "\n",
        "  3.2 [簡易デモザイク処理](http://bit.ly/raw_chap_3_2)\n",
        "\n",
        "  3.3 [ホワイトバランス調整](http://bit.ly/raw_chap_3_3)\n",
        "\n",
        "  3.4 [ブラックレベル調整](http://bit.ly/raw_chap_3_4)\n",
        "\n",
        "  3.5 [ガンマ補正](http://bit.ly/raw_chap_3_5)\n",
        "\n",
        "\n",
        "4. [重要な処理](http://bit.ly/raw_chap_4)\n",
        "\n",
        "  4.1 [この章について](http://bit.ly/raw_chap_4_1)\n",
        "\n",
        "  4.2 [線形補間デモザイク](http://bit.ly/raw_chap_4_2)\n",
        "\n",
        "  4.3 [欠陥画素補正](http://bit.ly/raw_chap_4_3)\n",
        "\n",
        "  4.4 [カラーマトリクス補正](http://bit.ly/raw_chap_4_4)\n",
        "\n",
        "  4.5 [レンズシェーディング補正](http://bit.ly/raw_chap_4_5)\n",
        "  \n",
        "\n",
        "5. [画質を良くする処理](http://bit.ly/raw_chap_5)\n",
        "\n",
        "  5.1 [この章について](http://bit.ly/raw_chap_5_1)\n",
        "\n",
        "  5.2 [ノイズフィルター](http://bit.ly/raw_chap_5_2)\n",
        "\n",
        "  5.3 [エッジ強調](http://bit.ly/raw_chap_5_3)\n",
        "\n",
        "  5.4 [トーンカーブ補正](http://bit.ly/raw_chap_5_4)\n",
        "\n",
        "\n",
        "6. [応用編](http://bit.ly/raw_chap_6_1)\n",
        "\n",
        "  6.1 [線形補間デモザイクの周波数特性](http://bit.ly/raw_chap_6_1)\n",
        "\n",
        "  6.2 [高度なデモザイク処理](http://bit.ly/raw_chap_6_2)\n",
        "  \n",
        "  6.3 [ミラーレスカメラ（ソニーα7-III)のRAW現像](http://bit.ly/raw_chap_6_3)\n",
        "\n",
        "\n",
        "7. [まとめ](http://bit.ly/raw_chap_7)\n",
        "\n",
        "\n",
        "8. [Appendix](http://bit.ly/raw_appendix_1)\n",
        "\n",
        "  8.1. [Google Colabの使い方](http://bit.ly/raw_appendix_1)\n",
        "  \n",
        "  8.2. [RAW画像の撮影方法](http://bit.ly/raw_appendix_1)  "
      ]
    }
  ]
}