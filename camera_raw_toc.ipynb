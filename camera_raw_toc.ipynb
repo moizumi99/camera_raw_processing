{
 "cells": [
  {
   "cell_type": "markdown",
   "metadata": {
    "colab_type": "text",
    "id": "Xj1ZQOchgXh7"
   },
   "source": [
    "\n",
    "# PythonとColabで作る - RAW現像ソフト作成入門\n",
    "\n",
    "\n",
    "## 目次\n",
    "\n",
    "1. [はじめに](https://colab.research.google.com/github/moizumi99/camera_raw_processing/blob/master/camera_raw_chapter_1.ipynb)\n",
    "\n",
    "2. [カメラ画像処理について](https://colab.research.google.com/github/moizumi99/camera_raw_processing/blob/master/camera_raw_chapter_2.ipynb)\n",
    "\n",
    "3. 基本的な処理\n",
    "\n",
    "  3.1 [準備](https://colab.research.google.com/github/moizumi99/camera_raw_processing/blob/master/camera_raw_chapter_3_1.ipynb)\n",
    "\n",
    "\n",
    "  3.2 [簡易デモザイク処理](https://colab.research.google.com/github/moizumi99/camera_raw_processing/blob/master/camera_raw_chapter_3_2.ipynb)\n",
    "\n",
    "  3.3 [ブラックレベル調整](https://colab.research.google.com/github/moizumi99/camera_raw_processing/blob/master/camera_raw_chapter_3_3.ipynb)\n",
    "\n",
    "  3.4 [ホワイトバランス調整](https://colab.research.google.com/github/moizumi99/camera_raw_processing/blob/master/camera_raw_chapter_3_4.ipynb)\n",
    "\n",
    "  3.5 [ガンマ補正](https://colab.research.google.com/github/moizumi99/camera_raw_processing/blob/master/camera_raw_chapter_3_5.ipynb)\n",
    "\n",
    "4. 重要な処理\n",
    "\n",
    "  4.1 [この章について](https://colab.research.google.com/github/moizumi99/camera_raw_processing/blob/master/camera_raw_chapter_4.ipynb)\n",
    "\n",
    "  4.1 [線形補間デモザイク](https://colab.research.google.com/github/moizumi99/camera_raw_processing/blob/master/camera_raw_chapter_4_1.ipynb)\n",
    "\n",
    "  4.2 欠陥画素補正\n",
    "\n",
    "  4.3 カラーマトリクス\n",
    "\n",
    "  4.4 レンズシェーディング補正\n",
    "\n",
    "5. 画質を良くする処理\n",
    "\n",
    "  5.1 この章について\n",
    "\n",
    "  5.2 ノイズフィルター\n",
    "\n",
    "  5.3 エッジ強調\n",
    "\n",
    "  5.4 トーンカーブ補正\n",
    "\n",
    "6. 応用編\n",
    "\n",
    "  6.2 線形補間デモザイクの周波数特性\n",
    "\n",
    "  6.1 高度なデモザイク処理\n",
    "\n",
    "7. まとめ\n",
    "\n",
    "8. Appendix\n",
    "\n",
    "  8.1. Google Colabの使い方\n",
    "  \n",
    "  8.2. RAW画像の撮影方法\n",
    "  "
   ]
  }
 ],
 "metadata": {
  "colab": {
   "collapsed_sections": [],
   "include_colab_link": true,
   "name": "camera_raw_toc.ipynb",
   "provenance": [],
   "version": "0.3.2"
  },
  "kernelspec": {
   "display_name": "Python 3",
   "language": "python",
   "name": "python3"
  },
  "language_info": {
   "codemirror_mode": {
    "name": "ipython",
    "version": 3
   },
   "file_extension": ".py",
   "mimetype": "text/x-python",
   "name": "python",
   "nbconvert_exporter": "python",
   "pygments_lexer": "ipython3",
   "version": "3.7.0"
  }
 },
 "nbformat": 4,
 "nbformat_minor": 1
}
