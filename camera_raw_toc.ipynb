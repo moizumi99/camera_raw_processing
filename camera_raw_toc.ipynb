{
 "cells": [
  {
   "cell_type": "markdown",
   "metadata": {
    "colab_type": "text",
    "id": "view-in-github"
   },
   "source": [
    "<a href=\"https://colab.research.google.com/github/moizumi99/camera_raw_processing/blob/master/camera_raw_toc.ipynb\" target=\"_parent\"><img src=\"https://colab.research.google.com/assets/colab-badge.svg\" alt=\"Open In Colab\"/></a>"
   ]
  },
  {
   "cell_type": "markdown",
   "metadata": {
    "colab_type": "text",
    "id": "Xj1ZQOchgXh7"
   },
   "source": [
    "\n",
    "# PythonとColabで作る - RAW現像ソフト作成入門\n",
    "\n",
    "\n",
    "## 目次\n",
    "\n",
    "1. [はじめに](https://colab.research.google.com/drive/1c1_xHzu9K_68rySQOg54I28oc4eGYssy)\n",
    "\n",
    "2. [カメラ画像処理について](https://colab.research.google.com/drive/1BBzVBWbkrWhsxnqtjPVkSz4-asveNyii)\n",
    "\n",
    "3. [基本的な処理](https://colab.research.google.com/drive/1P6SvX3sTdRLhrPDJDopc3kOLqOxKAJdc)\n",
    "\n",
    "  3.1 [この章について]()\n",
    "  \n",
    "  3.3 [準備]()\n",
    "\n",
    "  3.4 [簡易デモザイク処理]()\n",
    "\n",
    "  3.5 [ブラックレベル調整]()\n",
    "\n",
    "  3.6 [ホワイトバランス調整]()\n",
    "\n",
    "  3.7 [ガンマ補正]()\n",
    "\n",
    "4. [重要な処理](https://colab.research.google.com/drive/1ab0z2tNkgxaF2w98krsHP-YqKg45xa9K)\n",
    "\n",
    "  4.1 [この章について]()\n",
    "\n",
    "  4.1 [線形補間デモザイク]()\n",
    "\n",
    "  4.2 [欠陥画素補正]()\n",
    "\n",
    "  4.3 [カラーマトリクス]()\n",
    "\n",
    "  4.4 [レンズシェーディング補正]()\n",
    "\n",
    "5. [画質を良くする処理](https://colab.research.google.com/drive/1t8Fw0bEyGvhhQmViNS_XPwTumXbzdeMj)\n",
    "\n",
    "  5.1 [この章について]()\n",
    "\n",
    "  5.2 [ノイズフィルター]()\n",
    "\n",
    "  5.3 [エッジ強調]()\n",
    "\n",
    "  5.4 [トーンカーブ補正]()\n",
    "\n",
    "6. [応用編](https://colab.research.google.com/drive/17PKvQoHqAa3OTOjRfSv3FIsLbEAJook5)\n",
    "\n",
    "  6.2 [この章について]()\n",
    "\n",
    "  6.1 [高度なデモザイク処理]()\n",
    "\n",
    "7. [まとめ](https://colab.research.google.com/drive/1joIAB67Y8jwDUl-uynUHw4lvHOQGr5xO)\n",
    "\n",
    "8. [Appendix](https://colab.research.google.com/drive/1hb_Nd_zylOqDbefVvT1SCgKWO76qphLI)\n",
    "\n",
    "  8.1. [Google Colabの使い方]()\n",
    "  \n",
    "  8.2. [RAW画像の撮影方法]()\n",
    "  "
   ]
  },
  {
   "cell_type": "code",
   "execution_count": 0,
   "metadata": {
    "colab": {},
    "colab_type": "code",
    "id": "-3woxbc0yYPx"
   },
   "outputs": [],
   "source": []
  }
 ],
 "metadata": {
  "colab": {
   "collapsed_sections": [],
   "include_colab_link": true,
   "name": "camera_raw_toc.ipynb",
   "provenance": [],
   "version": "0.3.2"
  },
  "kernelspec": {
   "display_name": "Python 3",
   "language": "python",
   "name": "python3"
  },
  "language_info": {
   "codemirror_mode": {
    "name": "ipython",
    "version": 3
   },
   "file_extension": ".py",
   "mimetype": "text/x-python",
   "name": "python",
   "nbconvert_exporter": "python",
   "pygments_lexer": "ipython3",
   "version": "3.7.0"
  }
 },
 "nbformat": 4,
 "nbformat_minor": 1
}
