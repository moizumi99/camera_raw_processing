{
  "nbformat": 4,
  "nbformat_minor": 0,
  "metadata": {
    "colab": {
      "name": "camera_raw_chapter_5.ipynb",
      "version": "0.3.2",
      "provenance": []
    },
    "kernelspec": {
      "display_name": "Python 3",
      "language": "python",
      "name": "python3"
    }
  },
  "cells": [
    {
      "metadata": {
        "colab_type": "text",
        "id": "ht-4rPZWsZTl"
      },
      "cell_type": "markdown",
      "source": [
        "# 画質を良くする処理"
      ]
    },
    {
      "metadata": {
        "colab_type": "text",
        "id": "LxA5BCpYsZTn"
      },
      "cell_type": "markdown",
      "source": [
        "## この章について\n",
        "\n",
        "\n",
        "### はじめに\n",
        "\n",
        "この章では画像の画質を良くする処理を紹介します。\n",
        "\n",
        "このページ内の解説は簡略版です。 詳しい解説については技術書典6で配布した書籍「ゼロから作るRAW現像」を参照下さい。\n",
        "\n",
        "[目次ページに戻る](http://bit.ly/raw_toc)"
      ]
    },
    {
      "metadata": {
        "colab_type": "text",
        "id": "UhiScZlKsZTo"
      },
      "cell_type": "markdown",
      "source": [
        "### この章で扱う処理について\n",
        "\n",
        "この章ではよりきれいな画像を作り上げる処理をとりあげます。\n",
        "\n",
        "### まとめ\n",
        "\n",
        "次は[ノイズフィルター](http://bit.ly/raw_chap_5_2)です。"
      ]
    }
  ]
}