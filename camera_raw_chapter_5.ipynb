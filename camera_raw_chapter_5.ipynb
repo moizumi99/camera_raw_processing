{
 "cells": [
  {
   "cell_type": "markdown",
   "metadata": {
    "colab_type": "text",
    "id": "ht-4rPZWsZTl"
   },
   "source": [
    "# 5 画質を良くする処理"
   ]
  },
  {
   "cell_type": "markdown",
   "metadata": {
    "colab_type": "text",
    "id": "LxA5BCpYsZTn"
   },
   "source": [
    "## 5.1 この章について\n",
    "\n",
    "\n",
    "### はじめに\n",
    "\n",
    "この章では画像の画質を良くする処理を紹介します。\n",
    "\n",
    "この章の内容はColabノートブックとして公開してあります。ノートブックを見るには[目次ページ](http://bit.ly/raw_toc)から参照するか、以下のリンクを使ってアクセスしてください。\n",
    "\n",
    "http://bit.ly/raw_chap_5\n"
   ]
  },
  {
   "cell_type": "markdown",
   "metadata": {
    "colab_type": "text",
    "id": "UhiScZlKsZTo"
   },
   "source": [
    "### この章で扱う処理について\n",
    "\n",
    "前章まででカメラ画像処理に最低限必用な処理の説明を行いました。\n",
    "\n",
    "ここまででとりあえず見るに耐える画像はできましたが、画像の細部を見ていくとなんとなくぼやっとしていたり、平面のはずのところにノイズがのっていたりしていることに気がつくと思います。この章では、こういった点を解決して見栄えの良い、よりきれいな画像を作り上げる処理をとりあげます。\n",
    "\n",
    "とりあげるのは以下の処理です。\n",
    "- ノイズフィルター\n",
    "- エッジ強調\n",
    "- トーンカーブ補正\n",
    "\n",
    "最初のノイズフィルターとしてはよく知られているバイラテラルフィルターという処理をとりあげます。\n",
    "\n",
    "次のエッジ強調では、これまたアナログの時代から知られているアンシャープマスク処理をとりあげます。\n",
    "\n",
    "最後のトーンカーブ補正では、ヒストグラムについて簡単に説明したあとで、トーンカーブ補正処理を行ってみます。\n",
    "\n",
    "この章でも、ラズベリーパイのカメラ(v1.2)で撮影したRAW画像を使用します。\n",
    "\n",
    "### まとめ\n",
    "\n",
    "この章で扱う内容について概要を説明しました。次は[ノイズフィルター](http://bit.ly/raw_chap_5_2)です。"
   ]
  }
 ],
 "metadata": {
  "colab": {
   "name": "camera_raw_chapter_5.ipynb",
   "provenance": [],
   "version": "0.3.2"
  },
  "kernelspec": {
   "display_name": "Python 3",
   "language": "python",
   "name": "python3"
  },
  "language_info": {
   "codemirror_mode": {
    "name": "ipython",
    "version": 3
   },
   "file_extension": ".py",
   "mimetype": "text/x-python",
   "name": "python",
   "nbconvert_exporter": "python",
   "pygments_lexer": "ipython3",
   "version": "3.7.0"
  }
 },
 "nbformat": 4,
 "nbformat_minor": 1
}
