{
 "cells": [
  {
   "cell_type": "markdown",
   "metadata": {
    "colab_type": "text",
    "id": "BrkVGZI7xzFL"
   },
   "source": [
    "# 3.1 準備と簡易デモザイク"
   ]
  },
  {
   "cell_type": "markdown",
   "metadata": {
    "colab_type": "text",
    "id": "xamnD5Vtx0vL"
   },
   "source": [
    "## この節について"
   ]
  },
  {
   "cell_type": "markdown",
   "metadata": {
    "colab_type": "text",
    "id": "MCx9a-dix4rS"
   },
   "source": [
    "この節ではまずRAW画像を準備し、簡易的なデモザイクを行ってみます。\n",
    "\n",
    "この節のの内容はColabノートブックとして公開してあります。ノートブックを見るには[目次ページ](https://colab.research.google.com/github/moizumi99/camera_raw_processing/blob/master/camera_raw_toc.ipynb)から参照するか、以下のリンクを使ってアクセスしてください。\n",
    "\n",
    "https://colab.research.google.com/github/moizumi99/camera_raw_processing/blob/master/camera_raw_chapter_3_1.ipynb"
   ]
  },
  {
   "cell_type": "markdown",
   "metadata": {
    "colab_type": "text",
    "id": "IlFocA-tyqYP"
   },
   "source": [
    "## RAW画像の準備"
   ]
  },
  {
   "cell_type": "markdown",
   "metadata": {
    "colab_type": "text",
    "id": "ttGC5upoyxvV"
   },
   "source": [
    "まずRAW画像を用意します。今回はSony α 7 IIIで撮影したこの画像を使います。"
   ]
  },
  {
   "cell_type": "markdown",
   "metadata": {
    "colab_type": "text",
    "id": "vTZBBzdLy7gt"
   },
   "source": [
    "  ![最終的な画像](https://github.com/moizumi99/camera_raw_processing/raw/master/fig2_1.png \"最終的な画像\")"
   ]
  },
  {
   "cell_type": "markdown",
   "metadata": {
    "colab_type": "text",
    "id": "vDQMzJRLzCf1"
   },
   "source": [
    "ここで表示している画像は使用するRAWファイルから作成したRGB画像（PNGファイル）です。\n",
    "\n",
    "元になるRAWファイルはこのURLにあります。\n",
    "\n",
    "https://raw.githubusercontent.com/moizumi99/raw_process/master/sample.ARW\n",
    "\n",
    "では、colab上にダウンロードしてみましょう。"
   ]
  },
  {
   "cell_type": "code",
   "execution_count": 1,
   "metadata": {
    "colab": {
     "base_uri": "https://localhost:8080/",
     "height": 210
    },
    "colab_type": "code",
    "id": "1FWpzV_cxmNc",
    "outputId": "762ecd2f-ef17-4266-8f04-a57b694d0fab"
   },
   "outputs": [
    {
     "name": "stdout",
     "output_type": "stream",
     "text": [
      "--2019-01-26 10:54:31--  https://raw.githubusercontent.com/moizumi99/raw_process/master/sample.ARW\n",
      "Resolving raw.githubusercontent.com (raw.githubusercontent.com)... 151.101.188.133\n",
      "Connecting to raw.githubusercontent.com (raw.githubusercontent.com)|151.101.188.133|:443... connected.\n",
      "HTTP request sent, awaiting response... 200 OK\n",
      "Length: 24746752 (24M) [application/octet-stream]\n",
      "Saving to: ‘sample.ARW.1’\n",
      "\n",
      "sample.ARW.1        100%[===================>]  23.60M  52.3MB/s    in 0.5s    \n",
      "\n",
      "2019-01-26 10:54:32 (52.3 MB/s) - ‘sample.ARW.1’ saved [24746752/24746752]\n",
      "\n"
     ]
    }
   ],
   "source": [
    "!wget https://raw.githubusercontent.com/moizumi99/raw_process/master/sample.ARW"
   ]
  },
  {
   "cell_type": "markdown",
   "metadata": {
    "colab_type": "text",
    "id": "c6lhQkPYzDY1"
   },
   "source": [
    "自分で撮影したRAWデータを使用する場合は次のコマンド利用してください。"
   ]
  },
  {
   "cell_type": "code",
   "execution_count": 2,
   "metadata": {
    "colab": {},
    "colab_type": "code",
    "id": "X2ijvqnpz_dJ"
   },
   "outputs": [],
   "source": [
    "# from google.colab import files\n",
    "# uploaded = files.upload()"
   ]
  },
  {
   "cell_type": "markdown",
   "metadata": {
    "colab_type": "text",
    "id": "UCKE7YWB0N-n"
   },
   "source": [
    "使いやすいようにRAWファイル名を変数に保存しておきます。\n",
    "\n",
    "自分でアップロードしたファイルを使用する場合は、ファイル名を対象のファイルに書き換えてください。"
   ]
  },
  {
   "cell_type": "code",
   "execution_count": 3,
   "metadata": {
    "colab": {},
    "colab_type": "code",
    "id": "7hpdeRCEPKSz"
   },
   "outputs": [],
   "source": [
    "raw_file  = \"sample.ARW\""
   ]
  },
  {
   "cell_type": "markdown",
   "metadata": {
    "colab_type": "text",
    "id": "muiAt03rOJWn"
   },
   "source": [
    "## RAW画像の読み込み"
   ]
  },
  {
   "cell_type": "markdown",
   "metadata": {
    "colab_type": "text",
    "id": "iXpO4wm40ec9"
   },
   "source": [
    "まず必用なモジュールをインストールします。"
   ]
  },
  {
   "cell_type": "markdown",
   "metadata": {
    "colab_type": "text",
    "id": "XJkF6Tzt0mz-"
   },
   "source": [
    "まずインストールするのはrawpyです。\n",
    "\n",
    "rawpyはpythonでRAW画像を操作するためのモジュールです。\n",
    "\n",
    "https://pypi.org/project/rawpy/\n",
    "\n",
    "rawpyを使うとRAW画像からRAW画像データを取り出したり、画像サイズなどのパラメータを読み出したり、また簡易現像をすることができます。\n",
    "\n",
    "rawpyの使用法については実際に使う時に説明します。"
   ]
  },
  {
   "cell_type": "code",
   "execution_count": 4,
   "metadata": {
    "colab": {
     "base_uri": "https://localhost:8080/",
     "height": 52
    },
    "colab_type": "code",
    "id": "dkhmrG-Rz_5h",
    "outputId": "1df9f898-35d5-4578-f86e-c4e7bef004f6"
   },
   "outputs": [
    {
     "name": "stdout",
     "output_type": "stream",
     "text": [
      "Requirement already satisfied: rawpy in /home/moiz/anaconda3/lib/python3.7/site-packages (0.13.0)\r\n",
      "Requirement already satisfied: numpy in /home/moiz/anaconda3/lib/python3.7/site-packages (from rawpy) (1.15.1)\r\n"
     ]
    }
   ],
   "source": [
    "!pip install rawpy\n"
   ]
  },
  {
   "cell_type": "markdown",
   "metadata": {
    "colab_type": "text",
    "id": "Do5VTKVO6dWH"
   },
   "source": [
    "colabではコマンドの最初に!をつけると、linuxコマンドが実行できます。pipはpythonのモジュール管理用のコマンドです。"
   ]
  },
  {
   "cell_type": "markdown",
   "metadata": {
    "colab_type": "text",
    "id": "EsivilXq1gBz"
   },
   "source": [
    "次にimageioをインストールします。\n",
    "\n",
    "imageioは画像の表示やロード・セーブなどを行うモジュールです。"
   ]
  },
  {
   "cell_type": "code",
   "execution_count": 5,
   "metadata": {
    "colab": {
     "base_uri": "https://localhost:8080/",
     "height": 87
    },
    "colab_type": "code",
    "id": "jlP1Ed_M0k0K",
    "outputId": "724a5ca5-e9ef-47de-e5a3-410f74afe107"
   },
   "outputs": [
    {
     "name": "stdout",
     "output_type": "stream",
     "text": [
      "Requirement already satisfied: imageio in /home/moiz/anaconda3/lib/python3.7/site-packages (2.4.1)\r\n"
     ]
    }
   ],
   "source": [
    "!pip install imageio"
   ]
  },
  {
   "cell_type": "markdown",
   "metadata": {
    "colab_type": "text",
    "id": "FPmIMlss13PL"
   },
   "source": [
    "次にこれらのモジュールをインポートします。"
   ]
  },
  {
   "cell_type": "code",
   "execution_count": 6,
   "metadata": {
    "colab": {},
    "colab_type": "code",
    "id": "VQ_0GETs1WkP"
   },
   "outputs": [],
   "source": [
    "import rawpy, imageio"
   ]
  },
  {
   "cell_type": "markdown",
   "metadata": {
    "colab_type": "text",
    "id": "THzQYe8o2Lcw"
   },
   "source": [
    "他に必用なモジュールがある場合はその都度importすることにします。\n",
    "\n",
    "では先程ダウンロードしたRAWファイルをrawpyを使って読み出してみましょう。\n",
    "\n",
    "`imread()`はrawデータをファイルから読み込むrawpyのメソッドです。"
   ]
  },
  {
   "cell_type": "code",
   "execution_count": 7,
   "metadata": {
    "colab": {},
    "colab_type": "code",
    "id": "dtjt5rci178W"
   },
   "outputs": [],
   "source": [
    "raw = rawpy.imread(raw_file)"
   ]
  },
  {
   "cell_type": "markdown",
   "metadata": {
    "colab_type": "text",
    "id": "4kaN0Idk2mxO"
   },
   "source": [
    "読み込みがうまくいったか確認を兼ねてRAWデータの情報を見てみましょう。\n",
    "\n",
    "まず、画像サイズを確認します。読み込んだRAWデータは、sizesというアトリビュートでサイズ確認ができます。"
   ]
  },
  {
   "cell_type": "code",
   "execution_count": 8,
   "metadata": {
    "colab": {
     "base_uri": "https://localhost:8080/",
     "height": 34
    },
    "colab_type": "code",
    "id": "GRFJ-9qV2iBj",
    "outputId": "3282f4c9-4553-4079-ad1f-50217631fb7e"
   },
   "outputs": [
    {
     "name": "stdout",
     "output_type": "stream",
     "text": [
      "ImageSizes(raw_height=4024, raw_width=6048, height=4024, width=6024, top_margin=0, left_margin=0, iheight=4024, iwidth=6024, pixel_aspect=1.0, flip=0)\n"
     ]
    }
   ],
   "source": [
    "print(raw.sizes)"
   ]
  },
  {
   "cell_type": "markdown",
   "metadata": {
    "colab_type": "text",
    "id": "DT4LFgIm5REI"
   },
   "source": [
    "raw_heightとraw_widthはRAWデータのサイズです。この画像のサイズは縦4024ライン、横6048画素、ということになります。\n",
    "\n",
    "heightとwidthは、画像処理後の出力画像のサイズです。\n",
    "\n",
    "他の値についてはrawpyのページで解説されています。\n",
    "\n",
    "https://letmaik.github.io/rawpy/api/rawpy.RawPy.html#rawpy.RawPy.sizes"
   ]
  },
  {
   "cell_type": "markdown",
   "metadata": {
    "colab_type": "text",
    "id": "h29l8GYM6kz-"
   },
   "source": [
    "この画像を処理しやすくするために、numpyを使用します。\n",
    "\n",
    "numpyはpython用の数値計算ライブラリーです。行列処理の機能が豊富なので画像処理にも向いています。\n",
    "\n",
    "まず、numpyをnpという名前でインポートします。"
   ]
  },
  {
   "cell_type": "code",
   "execution_count": 9,
   "metadata": {
    "colab": {},
    "colab_type": "code",
    "id": "QocTGHS42qBW"
   },
   "outputs": [],
   "source": [
    "import numpy as np"
   ]
  },
  {
   "cell_type": "markdown",
   "metadata": {
    "colab_type": "text",
    "id": "jqXigJN_6-Ur"
   },
   "source": [
    "次にraw画像データから数値データのみをnumpyの配列に読み込みます。"
   ]
  },
  {
   "cell_type": "code",
   "execution_count": 10,
   "metadata": {
    "colab": {},
    "colab_type": "code",
    "id": "UpoWRsUR69gE"
   },
   "outputs": [],
   "source": [
    "raw_array = raw.raw_image"
   ]
  },
  {
   "cell_type": "markdown",
   "metadata": {
    "colab_type": "text",
    "id": "0knWobdZ8IJE"
   },
   "source": [
    "raw_imageはRAW画像データをnumpyの配列して渡すアトリビュートです。\n",
    "\n",
    "このままでは１次元配列で扱いにくいので、reshapeを使って２次元配列に変換します。"
   ]
  },
  {
   "cell_type": "code",
   "execution_count": 11,
   "metadata": {
    "colab": {},
    "colab_type": "code",
    "id": "X7H2PhNb8GgE"
   },
   "outputs": [],
   "source": [
    "h, w = raw.sizes.raw_height, raw.sizes.raw_width\n",
    "raw_array = raw_array.reshape((h, w))"
   ]
  },
  {
   "cell_type": "markdown",
   "metadata": {
    "colab_type": "text",
    "id": "aUJm4XKw8uuW"
   },
   "source": [
    "これでraw_arrayは4024 x 6048の２次元配列になりました。\n",
    "\n",
    "\n",
    "画像データを表示するコマンドimshowを使って、画像として確認してみましょう。"
   ]
  },
  {
   "cell_type": "code",
   "execution_count": 23,
   "metadata": {
    "colab": {
     "base_uri": "https://localhost:8080/",
     "height": 349
    },
    "colab_type": "code",
    "id": "IsGNEjZ27P0N",
    "outputId": "f240c79a-7987-48e9-f64e-40697b523c3f"
   },
   "outputs": [
    {
     "data": {
      "image/png": "[encoded data removed]",
      "text/plain": [
       "<Figure size 432x288 with 1 Axes>"
      ]
     },
     "metadata": {
      "needs_background": "light"
     },
     "output_type": "display_data"
    }
   ],
   "source": [
    "import matplotlib.pyplot as plt\n",
    "from matplotlib.pyplot import imshow\n",
    "\n",
    "# raw_arrayの中のデータをグレースケールで表示します。\n",
    "imshow(raw_array, cmap='gray')\n",
    "# 軸を非表示にします。\n",
    "plt.axis('off')\n",
    "# 実際に表示します。\n",
    "plt.show()"
   ]
  },
  {
   "cell_type": "markdown",
   "metadata": {
    "colab_type": "text",
    "id": "7fEgVvId9Ngm"
   },
   "source": [
    "ここでmatplotlibはnumpy用描画ライブラリーです。その中でpyplotは各種グラフを表示するモジュールです。ここではpltという名前でインポートしています。"
   ]
  },
  {
   "cell_type": "markdown",
   "metadata": {
    "colab_type": "text",
    "id": "jeKk14nlOeLa"
   },
   "source": [
    "## この節のまとめ"
   ]
  },
  {
   "cell_type": "markdown",
   "metadata": {
    "colab_type": "text",
    "id": "6tC_sDm0Ohpn"
   },
   "source": [
    "必用なモジュールをインポートしてRAW画像をcolab上に読み込みました。"
   ]
  }
 ],
 "metadata": {
  "colab": {
   "collapsed_sections": [],
   "include_colab_link": true,
   "name": "camera_raw_chapter_3_1.ipynb",
   "provenance": [],
   "version": "0.3.2"
  },
  "kernelspec": {
   "display_name": "Python 3",
   "language": "python",
   "name": "python3"
  },
  "language_info": {
   "codemirror_mode": {
    "name": "ipython",
    "version": 3
   },
   "file_extension": ".py",
   "mimetype": "text/x-python",
   "name": "python",
   "nbconvert_exporter": "python",
   "pygments_lexer": "ipython3",
   "version": "3.7.0"
  }
 },
 "nbformat": 4,
 "nbformat_minor": 1
}
