{
  "nbformat": 4,
  "nbformat_minor": 0,
  "metadata": {
    "colab": {
      "name": "camera_raw_chapter_3_1.ipynb",
      "version": "0.3.2",
      "provenance": [],
      "collapsed_sections": [],
      "include_colab_link": true
    },
    "kernelspec": {
      "name": "python3",
      "display_name": "Python 3"
    }
  },
  "cells": [
    {
      "cell_type": "markdown",
      "metadata": {
        "id": "view-in-github",
        "colab_type": "text"
      },
      "source": [
        "<a href=\"https://colab.research.google.com/github/moizumi99/camera_raw_processing/blob/master/camera_raw_chapter_3_1.ipynb\" target=\"_parent\"><img src=\"https://colab.research.google.com/assets/colab-badge.svg\" alt=\"Open In Colab\"/></a>"
      ]
    },
    {
      "metadata": {
        "id": "BrkVGZI7xzFL",
        "colab_type": "text"
      },
      "cell_type": "markdown",
      "source": [
        "# 3.1 準備と簡易デモザイク"
      ]
    },
    {
      "metadata": {
        "id": "xamnD5Vtx0vL",
        "colab_type": "text"
      },
      "cell_type": "markdown",
      "source": [
        "## この節について"
      ]
    },
    {
      "metadata": {
        "id": "MCx9a-dix4rS",
        "colab_type": "text"
      },
      "cell_type": "markdown",
      "source": [
        "この節ではまずRAW画像を準備し、簡易的なデモザイクを行ってみます。\n",
        "\n",
        "この節のの内容はColabノートブックとして公開してあります。ノートブックを見るには[目次ページ](https://colab.research.google.com/drive/1iCvkyksS0RPxo4aQc1xkNbMlZYReexPP)から参照するか、以下のリンクを使ってアクセスしてください。"
      ]
    },
    {
      "metadata": {
        "id": "htXLtj-1xKQi",
        "colab_type": "code",
        "colab": {}
      },
      "cell_type": "code",
      "source": [
        ""
      ],
      "execution_count": 0,
      "outputs": []
    },
    {
      "metadata": {
        "id": "1FWpzV_cxmNc",
        "colab_type": "code",
        "colab": {}
      },
      "cell_type": "code",
      "source": [
        ""
      ],
      "execution_count": 0,
      "outputs": []
    }
  ]
}