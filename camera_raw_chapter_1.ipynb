{
 "cells": [
  {
   "cell_type": "markdown",
   "metadata": {
    "colab_type": "text",
    "id": "rovw28IICMap"
   },
   "source": [
    "# 1. はじめに"
   ]
  },
  {
   "cell_type": "markdown",
   "metadata": {
    "colab_type": "text",
    "id": "VtAuZqBOCVwc"
   },
   "source": [
    "## この本について"
   ]
  },
  {
   "cell_type": "markdown",
   "metadata": {
    "colab_type": "text",
    "id": "uLDnQ8fjCbYB"
   },
   "source": [
    "この本では、カメラ画像処理・RAW画像現像の内容を実際の動作レベルで解説し、なるべくスクラッチからPython上で実行してみる事を目的としています。\n",
    "\n",
    "そのために、解説する処理は最重要なものにしぼり、使用するアルゴリズムは一部の例外（デモザイク）を除き、もっとも簡単なものを選びました<sup name=\"footnote1\">[1]</sup>。\n",
    "\n",
    "記事の最後ではラズベリーパイのカメラで撮影したRAW画像からこんなRGB画像が作れるようになります。\n",
    "\n",
    "(TODO: 画像を入れる)"
   ]
  },
  {
   "cell_type": "markdown",
   "metadata": {
    "colab_type": "text",
    "id": "XCSHEbH9DWKw"
   },
   "source": [
    "またすべての処理はGoogle Colab上で行うことができ、読者の皆さんはパワフルなPCや特殊なソフトウェアをよういせずとも、ブラウザ上で全ての処理を試してみることができます。\n",
    "  \n",
    "全てのコードへのリンクはこちらの[目次ページ](https://colab.research.google.com/github/moizumi99/camera_raw_processing/blob/master/camera_raw_toc.ipynb)からたどることができます。"
   ]
  },
  {
   "cell_type": "markdown",
   "metadata": {
    "colab_type": "text",
    "id": "bPQ_7Q6Qjwsb"
   },
   "source": [
    "## 対象読者"
   ]
  },
  {
   "cell_type": "markdown",
   "metadata": {
    "colab_type": "text",
    "id": "pBcHCaK2j0ui"
   },
   "source": [
    "この本は以下のような読者を対象としています。\n",
    "- カメラ内部の画像処理またはRAW現像の内容に興味がある。\n",
    "\n",
    "また次のような知識があれば、内容を深く理解する助けになります。\n",
    "- Pythonプログラミングの基本的な内容について知っている。\n",
    "- 高校で学ぶ程度の数学の知識がある。"
   ]
  },
  {
   "cell_type": "markdown",
   "metadata": {
    "colab_type": "text",
    "id": "vZDxW244EBjH"
   },
   "source": [
    "## Colabについて\n"
   ]
  },
  {
   "cell_type": "markdown",
   "metadata": {
    "colab_type": "text",
    "id": "Aur6izfqGBZ-"
   },
   "source": [
    "Google Colab (グーグル・コラボ)とはGoogleが提供するサービスの一つで、ブラウザ上で実行可能なPythonのインタラクティブ環境です。\n",
    "\n",
    "Google Colabを利用することにより、Pythonの環境を無料でブラウザ上で利用することができます。\n",
    "\n",
    "詳しくは[Google自身によるColabの解説](https://colab.research.google.com/notebooks/welcome.ipynb?hl=ja)をご覧ください。"
   ]
  },
  {
   "cell_type": "markdown",
   "metadata": {
    "colab_type": "text",
    "id": "oDzKvsuXEFiv"
   },
   "source": [
    "## この本で扱うもの\n"
   ]
  },
  {
   "cell_type": "markdown",
   "metadata": {
    "colab_type": "text",
    "id": "_WG7PppYFzHV"
   },
   "source": [
    "この本で扱う内容は基本的に以下のとおりです。\n",
    "\n",
    "- 基本的なRAW現像処理・カメラ画像処理の流れ\n",
    "- Bayer画像からRGB画像出力までの各アルゴリズムのうち、基本的な最低限のものの解説\n",
    "- 解説した基本的なアルゴリズムのPythonによる実装と処理例\n",
    "\n",
    "一部例外はありますが、そういったものは関連した話題として触れられるだけにとどまります。"
   ]
  },
  {
   "cell_type": "markdown",
   "metadata": {
    "colab_type": "text",
    "id": "GxTPnXflEN2u"
   },
   "source": [
    "## この記事で扱わないもの\n"
   ]
  },
  {
   "cell_type": "markdown",
   "metadata": {
    "colab_type": "text",
    "id": "AFVXdBUrF6M2"
   },
   "source": [
    "この本で基本的に扱わない物は以下のとおりです。ただし、記事の解説上最低限必要なものについては触れることがあります。\n",
    "\n",
    "- ３A（オートフォーカス、オートホワイトバランス、オート露出）などを始めとするカメラコントロールアルゴリズム\n",
    "- 高度なカメラ画像処理アルゴリズム\n",
    "- 画像評価、カリブレーション、及びチューニング\n",
    "- 画像圧縮\n"
   ]
  },
  {
   "cell_type": "markdown",
   "metadata": {
    "colab_type": "text",
    "id": "rHby_HVMEQ5x"
   },
   "source": [
    "## 環境について\n",
    "\n",
    "この記事で解説する内容は一般的なものですが、使用した画像ファイルは特定のカメラに依存しています。\n",
    "他のカメラでもわずかな変更で同等の処理ができるとは予想されますが、検証はしていません。"
   ]
  },
  {
   "cell_type": "markdown",
   "metadata": {
    "colab_type": "text",
    "id": "FR2x7uaIEY_I"
   },
   "source": [
    "### 使用カメラ\n",
    "\n"
   ]
  },
  {
   "cell_type": "markdown",
   "metadata": {
    "colab_type": "text",
    "id": "6pzXj7k3F97X"
   },
   "source": [
    "\n",
    "- Sony Alpha 7 III\n",
    "- Raspberry Pi Camera v2.1\n",
    "\n",
    "なお、使用したファイルはGithubからダウンロードできるので、これらのカメラをお持ちでなくても、紹介した処理の内容を実行することは可能です。"
   ]
  },
  {
   "cell_type": "markdown",
   "metadata": {
    "colab_type": "text",
    "id": "8_NEJxPyEadj"
   },
   "source": [
    "### 実行環境\n",
    "\n",
    "この内容を再現するには通常のPC環境に加えて以下の環境等が必用です。\n",
    "\n",
    "- Google Colabにアクセスできるブラウザ\n",
    " - 多くのブラウザが対応できると思われます。なお、本書の内容はChromeによって確かめられています。\n",
    "\n",
    "- ColabにアクセスできるGoogleアカウント\n",
    "\n",
    "必須ではありませんが、次の物があれば、本書の内容を更に深く理解することができます\n",
    "\n",
    "- PC上で実行できるPerl環境（ExifToolの実行に必用)\n",
    "\n",
    "- [exiftool](https://www.sno.phy.queensu.ca/~phil/exiftool/)"
   ]
  },
  {
   "cell_type": "markdown",
   "metadata": {},
   "source": [
    "## 次の章\n",
    "\n",
    "次は[カメラ画像処理について](https://colab.research.google.com/github/moizumi99/camera_raw_processing/blob/master/camera_raw_chapter_3_1pynb)簡単に解説します。"
   ]
  }
 ],
 "metadata": {
  "colab": {
   "collapsed_sections": [],
   "include_colab_link": true,
   "name": "camera_raw_chapter_1.ipynb",
   "provenance": [],
   "version": "0.3.2"
  },
  "kernelspec": {
   "display_name": "Python 3",
   "language": "python",
   "name": "python3"
  },
  "language_info": {
   "codemirror_mode": {
    "name": "ipython",
    "version": 3
   },
   "file_extension": ".py",
   "mimetype": "text/x-python",
   "name": "python",
   "nbconvert_exporter": "python",
   "pygments_lexer": "ipython3",
   "version": "3.7.0"
  }
 },
 "nbformat": 4,
 "nbformat_minor": 1
}
