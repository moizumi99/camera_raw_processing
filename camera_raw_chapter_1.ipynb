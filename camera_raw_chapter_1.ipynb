{
 "cells": [
  {
   "cell_type": "markdown",
   "metadata": {
    "colab_type": "text",
    "id": "rovw28IICMap"
   },
   "source": [
    "# はじめに"
   ]
  },
  {
   "cell_type": "markdown",
   "metadata": {
    "colab_type": "text",
    "id": "VtAuZqBOCVwc"
   },
   "source": [
    "## はじめに"
   ]
  },
  {
   "cell_type": "markdown",
   "metadata": {
    "colab_type": "text",
    "id": "uLDnQ8fjCbYB"
   },
   "source": [
    "### この本について\n",
    "\n",
    "この本では、カメラ画像処理・RAW画像現像の内容を実際の動作レベルで解説し、なるべくスクラッチからPython上で実行してみる事を目的としています。記事の最後ではラズベリーパイのカメラで撮影したRAW画像からこんなRGB画像が作れるようになります。\n",
    "\n",
    "![RAW現像した画像](https://github.com/moizumi99/camera_raw_processing/raw/master/final_chart.jpg)"
   ]
  },
  {
   "cell_type": "markdown",
   "metadata": {
    "colab_type": "text",
    "id": "XCSHEbH9DWKw"
   },
   "source": [
    "またすべての処理はGoogle Colab上で行うことができ、読者の皆さんはパワフルなPCや特殊なソフトウェアを用意せずとも、ブラウザ上で全ての処理を試してみることができます。\n",
    "\n",
    "今回使用したPythonのコードはすべてgithubで公開しています。\n",
    "[https://github.com/moizumi99/camera_raw_processing](https://github.com/moizumi99/camera_raw_processing)\n",
    "\n",
    "また目次ページにはこちらのURLからアクセスすることもできます。\n",
    "[http://bit.ly/raw_toc](http://bit.ly/raw_toc)"
   ]
  },
  {
   "cell_type": "markdown",
   "metadata": {
    "colab_type": "text",
    "id": "bPQ_7Q6Qjwsb"
   },
   "source": [
    "### 対象読者"
   ]
  },
  {
   "cell_type": "markdown",
   "metadata": {
    "colab_type": "text",
    "id": "pBcHCaK2j0ui"
   },
   "source": [
    "この本は以下のような読者を対象としています。\n",
    "- カメラ内部の画像処理またはRAW現像の内容に興味がある。\n",
    "\n",
    "また次のような知識があれば、内容を深く理解する助けになります。\n",
    "- Pythonプログラミングの基本的な内容について知っている。\n",
    "- 高校で学ぶ程度の数学の知識がある。"
   ]
  },
  {
   "cell_type": "markdown",
   "metadata": {
    "colab_type": "text",
    "id": "Aur6izfqGBZ-"
   },
   "source": [
    "### Colabについて\n",
    "\n",
    "Google Colab (グーグル・コラボ)とはGoogleが提供するサービスの一つで、ブラウザ上で実行可能なPythonのインタラクティブ環境です。Google Colabを利用することにより、Pythonの環境を無料でブラウザ上で利用することができます。詳しくは[Google自身によるColabの解説](https://colab.research.google.com/notebooks/welcome.ipynb?hl=ja)をご覧ください。"
   ]
  },
  {
   "cell_type": "markdown",
   "metadata": {
    "colab_type": "text",
    "id": "_WG7PppYFzHV"
   },
   "source": [
    "### この本で扱うもの\n",
    "\n",
    "この本で扱う内容は基本的に以下のとおりです。\n",
    "\n",
    "- 基本的なRAW現像処理・カメラ画像処理の流れ\n",
    "- Bayer画像からRGB画像出力までの各アルゴリズムのうち、基本的な最低限のものの解説\n",
    "- 解説した基本的なアルゴリズムのPythonによる実装と処理例\n",
    "\n",
    "一部例外はありますが、そういったものは関連した話題として触れられるだけにとどまります。"
   ]
  },
  {
   "cell_type": "markdown",
   "metadata": {
    "colab_type": "text",
    "id": "AFVXdBUrF6M2"
   },
   "source": [
    "### この本で扱わないもの\n",
    "\n",
    "この本で基本的に扱わない物は以下のとおりです。ただし、記事の解説上最低限必要なものについては触れることがあります。\n",
    "\n",
    "- ３A（オートフォーカス、オートホワイトバランス、オート露出）などを始めとするカメラコントロールアルゴリズム\n",
    "- 高度なカメラ画像処理アルゴリズム\n",
    "- 画像評価、カリブレーション、及びチューニング\n",
    "- 画像圧縮\n",
    "- Python自体やPython Libraryの詳細な解説\n",
    "\n",
    "最後のPythonに関する点、処理の解説上必用な部分の解説は行っていますが言語の基礎的な部分やライブラリの詳しい使い方は行っていません。"
   ]
  },
  {
   "cell_type": "markdown",
   "metadata": {
    "colab_type": "text",
    "id": "8_NEJxPyEadj"
   },
   "source": [
    "### 環境について\n",
    "\n",
    "この記事で解説する内容は一般的なものですが、使用した画像ファイルは特定のカメラに依存しています。\n",
    "他のカメラでもわずかな変更で同等の処理ができるとは予想されますが、検証はしていません。\n",
    "\n",
    "#### 使用カメラ\n",
    "\n",
    "この本で扱う画像を撮影するのに使ったカメラは以下の２つです。\n",
    "\n",
    "- Raspberry Pi Camera v2.1\n",
    "- Sony α7 III (一部のみ)\n",
    "\n",
    "なお、使用したファイルはGithubからダウンロードできますので、これらのカメラをお持ちでなくても、紹介した処理の内容を実行することは可能です。\n",
    "\n",
    "#### 実行環境\n",
    "\n",
    "この本の内容を再現するには以下の環境等が必用です。\n",
    "\n",
    "- Google Colabにアクセスできるブラウザ\n",
    " - 多くのブラウザが対応できると思われます。なお、本書の内容はChromeによって確かめられています。\n",
    "\n",
    "- ColabにアクセスできるGoogleアカウント\n",
    "\n",
    "なおColab上で使用したPythonのバージョンは3.6です。"
   ]
  },
  {
   "cell_type": "markdown",
   "metadata": {},
   "source": [
    "### コードおよびデータの扱いについて\n",
    "\n",
    "公開部分のうちPythonのコード部分は読者の方がどのように改変して使用されても構いません。また再配布も自由です。許可もいりませんし、こちらの本やgithubのリポジトリーに言及する必用もありません。\n",
    "\n",
    "RAW画像に関しては元のRAW画像およびそれを処理したものどちらも改変および再配布を含めた自由な使用を許可します。ただし、ブログ・書籍・ご自分のプロジェクトまたはその他の形で他者に公開する場合には、配布元ととしてこちらのgithubのリポジトリーのURLを提示することを条件とします。\n",
    "\n",
    "[https://github.com/moizumi99/camera\\_raw\\_processing](https://github.com/moizumi99/camera\\_raw\\_processing)\n",
    "\n",
    "この本およびgithubで公開されているデータのうち解説テキスト及び図(RAW画像以外の物)については、個人的な目的を超える使用、および筆者の許可を得ぬ再配布はご遠慮ください。\n",
    "\n",
    "まとめると「Pythonコードは好きに使って良い」「RAW画像を使用するときはgithubのURLを添えて」「テキストと図（RAW画像以外）は改変・再配布不可」です。\n",
    "\n",
    "### 免責事項\n",
    "\n",
    "この本およびそれに付随するテキスト、ソースコード、データいずれについても、読者がそれを用いたり又はそれに従って行動した結果について、著者は一切の責任を負いません。RAW現像を個人的に行って何らかの被害が出るというのは考えにくいことではありますが、使用については各読者の責任の元行ってください。"
   ]
  },
  {
   "cell_type": "markdown",
   "metadata": {
    "colab_type": "text",
    "id": "1x_OQApbCmLk"
   },
   "source": [
    "### 次の章\n",
    "\n",
    "次は[カメラ画像処理について](http://bit.ly/raw_chap_2)簡単に解説します。"
   ]
  }
 ],
 "metadata": {
  "colab": {
   "collapsed_sections": [],
   "name": "camera_raw_chapter_1.ipynb",
   "provenance": [],
   "version": "0.3.2"
  },
  "kernelspec": {
   "display_name": "Python 3",
   "language": "python",
   "name": "python3"
  },
  "language_info": {
   "codemirror_mode": {
    "name": "ipython",
    "version": 3
   },
   "file_extension": ".py",
   "mimetype": "text/x-python",
   "name": "python",
   "nbconvert_exporter": "python",
   "pygments_lexer": "ipython3",
   "version": "3.7.0"
  }
 },
 "nbformat": 4,
 "nbformat_minor": 1
}
