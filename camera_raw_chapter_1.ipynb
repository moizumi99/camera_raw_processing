{
  "nbformat": 4,
  "nbformat_minor": 0,
  "metadata": {
    "colab": {
      "name": "camera_raw_chapter_1.ipynb",
      "version": "0.3.2",
      "provenance": [],
      "collapsed_sections": []
    },
    "kernelspec": {
      "display_name": "Python 3",
      "language": "python",
      "name": "python3"
    }
  },
  "cells": [
    {
      "metadata": {
        "colab_type": "text",
        "id": "rovw28IICMap"
      },
      "cell_type": "markdown",
      "source": [
        "# 1. はじめに"
      ]
    },
    {
      "metadata": {
        "colab_type": "text",
        "id": "VtAuZqBOCVwc"
      },
      "cell_type": "markdown",
      "source": [
        "## 1.1 はじめに"
      ]
    },
    {
      "metadata": {
        "colab_type": "text",
        "id": "uLDnQ8fjCbYB"
      },
      "cell_type": "markdown",
      "source": [
        "### この本について\n",
        "\n",
        "この本では、カメラ画像処理・RAW画像現像の内容を実際の動作レベルで解説し、なるべくスクラッチからPython上で実行してみる事を目的としています。\n",
        "\n",
        "そのために、解説する処理は最重要なものにしぼり、使用するアルゴリズムは一部の例外（デモザイク）を除き、もっとも簡単なものを選びました<sup name=\"footnote1\">[1]</sup>。\n",
        "\n",
        "記事の最後ではラズベリーパイのカメラで撮影したRAW画像からこんなRGB画像が作れるようになります。\n",
        "\n",
        "(TODO: 画像を入れる)"
      ]
    },
    {
      "metadata": {
        "colab_type": "text",
        "id": "XCSHEbH9DWKw"
      },
      "cell_type": "markdown",
      "source": [
        "またすべての処理はGoogle Colab上で行うことができ、読者の皆さんはパワフルなPCや特殊なソフトウェアをよういせずとも、ブラウザ上で全ての処理を試してみることができます。\n",
        "  \n",
        "全てのコードへのリンクはこちらの[目次ページ](https://colab.research.google.com/github/moizumi99/camera_raw_processing/blob/master/camera_raw_toc.ipynb)からたどることができます。"
      ]
    },
    {
      "metadata": {
        "colab_type": "text",
        "id": "bPQ_7Q6Qjwsb"
      },
      "cell_type": "markdown",
      "source": [
        "### 対象読者"
      ]
    },
    {
      "metadata": {
        "colab_type": "text",
        "id": "pBcHCaK2j0ui"
      },
      "cell_type": "markdown",
      "source": [
        "この本は以下のような読者を対象としています。\n",
        "- カメラ内部の画像処理またはRAW現像の内容に興味がある。\n",
        "\n",
        "また次のような知識があれば、内容を深く理解する助けになります。\n",
        "- Pythonプログラミングの基本的な内容について知っている。\n",
        "- 高校で学ぶ程度の数学の知識がある。"
      ]
    },
    {
      "metadata": {
        "colab_type": "text",
        "id": "vZDxW244EBjH"
      },
      "cell_type": "markdown",
      "source": [
        "### Colabについて\n"
      ]
    },
    {
      "metadata": {
        "colab_type": "text",
        "id": "Aur6izfqGBZ-"
      },
      "cell_type": "markdown",
      "source": [
        "Google Colab (グーグル・コラボ)とはGoogleが提供するサービスの一つで、ブラウザ上で実行可能なPythonのインタラクティブ環境です。\n",
        "\n",
        "Google Colabを利用することにより、Pythonの環境を無料でブラウザ上で利用することができます。\n",
        "\n",
        "詳しくは[Google自身によるColabの解説](https://colab.research.google.com/notebooks/welcome.ipynb?hl=ja)をご覧ください。"
      ]
    },
    {
      "metadata": {
        "colab_type": "text",
        "id": "oDzKvsuXEFiv"
      },
      "cell_type": "markdown",
      "source": [
        "### この本で扱うもの\n"
      ]
    },
    {
      "metadata": {
        "colab_type": "text",
        "id": "_WG7PppYFzHV"
      },
      "cell_type": "markdown",
      "source": [
        "この本で扱う内容は基本的に以下のとおりです。\n",
        "\n",
        "- 基本的なRAW現像処理・カメラ画像処理の流れ\n",
        "- Bayer画像からRGB画像出力までの各アルゴリズムのうち、基本的な最低限のものの解説\n",
        "- 解説した基本的なアルゴリズムのPythonによる実装と処理例\n",
        "\n",
        "一部例外はありますが、そういったものは関連した話題として触れられるだけにとどまります。"
      ]
    },
    {
      "metadata": {
        "colab_type": "text",
        "id": "GxTPnXflEN2u"
      },
      "cell_type": "markdown",
      "source": [
        "### この記事で扱わないもの\n"
      ]
    },
    {
      "metadata": {
        "colab_type": "text",
        "id": "AFVXdBUrF6M2"
      },
      "cell_type": "markdown",
      "source": [
        "この本で基本的に扱わない物は以下のとおりです。ただし、記事の解説上最低限必要なものについては触れることがあります。\n",
        "\n",
        "- ３A（オートフォーカス、オートホワイトバランス、オート露出）などを始めとするカメラコントロールアルゴリズム\n",
        "- 高度なカメラ画像処理アルゴリズム\n",
        "- 画像評価、カリブレーション、及びチューニング\n",
        "- 画像圧縮\n"
      ]
    },
    {
      "metadata": {
        "colab_type": "text",
        "id": "rHby_HVMEQ5x"
      },
      "cell_type": "markdown",
      "source": [
        "### 環境について\n",
        "\n",
        "この記事で解説する内容は一般的なものですが、使用した画像ファイルは特定のカメラに依存しています。\n",
        "他のカメラでもわずかな変更で同等の処理ができるとは予想されますが、検証はしていません。"
      ]
    },
    {
      "metadata": {
        "colab_type": "text",
        "id": "FR2x7uaIEY_I"
      },
      "cell_type": "markdown",
      "source": [
        "#### 使用カメラ\n",
        "\n"
      ]
    },
    {
      "metadata": {
        "colab_type": "text",
        "id": "6pzXj7k3F97X"
      },
      "cell_type": "markdown",
      "source": [
        "この本で扱う画像を撮影するのに使ったカメラは以下の２つです。\n",
        "\n",
        "- Raspberry Pi Camera v2.1\n",
        "- Sony Alpha 7 III\n",
        "\n",
        "なお、使用したファイルはGithubからダウンロードできるので、これらのカメラをお持ちでなくても、紹介した処理の内容を実行することは可能です。"
      ]
    },
    {
      "metadata": {
        "colab_type": "text",
        "id": "8_NEJxPyEadj"
      },
      "cell_type": "markdown",
      "source": [
        "#### 実行環境\n",
        "\n",
        "この内容を再現するには通常のPC環境に加えて以下の環境等が必用です。\n",
        "\n",
        "- Google Colabにアクセスできるブラウザ\n",
        " - 多くのブラウザが対応できると思われます。なお、本書の内容はChromeによって確かめられています。\n",
        "\n",
        "- ColabにアクセスできるGoogleアカウント"
      ]
    },
    {
      "metadata": {
        "id": "1x_OQApbCmLk",
        "colab_type": "text"
      },
      "cell_type": "markdown",
      "source": [
        "### 次の章\n",
        "\n",
        "次は[カメラ画像処理について](https://colab.research.google.com/github/moizumi99/camera_raw_processing/blob/master/camera_raw_chapter_2.ipynb)簡単に解説します。"
      ]
    }
  ]
}