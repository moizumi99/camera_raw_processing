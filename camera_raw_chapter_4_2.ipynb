{
 "cells": [
  {
   "cell_type": "markdown",
   "metadata": {},
   "source": [
    "# 4.2 デモザイク"
   ]
  },
  {
   "cell_type": "markdown",
   "metadata": {},
   "source": [
    "## この節について\n",
    "\n",
    "この節では、画像サイズを変えないデモザイク処理を解説します。\n",
    "\n",
    "この節のの内容はColabノートブックとして公開してあります。ノートブックを見るには[目次ページ](https://colab.research.google.com/github/moizumi99/camera_raw_processing/blob/master/camera_raw_toc.ipynb)から参照するか、以下のリンクを使ってアクセスしてください。\n",
    "\n",
    "https://colab.research.google.com/github/moizumi99/camera_raw_processing/blob/master/camera_raw_chapter_4_1.ipynb"
   ]
  },
  {
   "cell_type": "markdown",
   "metadata": {},
   "source": [
    "## 準備\n",
    "\n",
    "まず3章で行ったライブラリーのインストールと、モジュールのインポートを行います。\n",
    "内容については各節を参照ください。"
   ]
  },
  {
   "cell_type": "code",
   "execution_count": 5,
   "metadata": {},
   "outputs": [
    {
     "name": "stdout",
     "output_type": "stream",
     "text": [
      "Requirement already satisfied: rawpy in /home/moiz/anaconda3/lib/python3.7/site-packages (0.13.0)\n",
      "Requirement already satisfied: numpy in /home/moiz/anaconda3/lib/python3.7/site-packages (from rawpy) (1.15.1)\n",
      "Requirement already satisfied: imageio in /home/moiz/anaconda3/lib/python3.7/site-packages (2.4.1)\n"
     ]
    }
   ],
   "source": [
    "# rawpyとimageioのインストール\n",
    "!pip install rawpy;\n",
    "!pip install imageio;\n",
    "\n",
    "# rawpy, imageio, numpuy, pyplot, imshowのインポート\n",
    "import rawpy, imageio\n",
    "import numpy as np\n",
    "import matplotlib.pyplot as plt\n",
    "from matplotlib.pyplot import imshow\n",
    "\n",
    "# 前節までに作成したモジュールのダウンロード\n",
    "!if [ ! -f raw_process.py ]; then wget https://raw.githubusercontent.com/moizumi99/camera_raw_process/master/camera_raw_process.py; fi\n",
    "\n",
    "from raw_process import simple_demosaic, white_balance, black_level_correction, gamma_correction"
   ]
  },
  {
   "cell_type": "markdown",
   "metadata": {},
   "source": [
    "次に画像のダウンロードと読み込みを行います。\n",
    "\n",
    "今回はラズベリーパイで撮影したこの画像を使用します。\n",
    "\n",
    "![チャート画像](https://raw.githubusercontent.com/moizumi99/raw_process/master/chart.jpg)"
   ]
  },
  {
   "cell_type": "code",
   "execution_count": 6,
   "metadata": {},
   "outputs": [],
   "source": [
    "# 画像をダウンロードします。\n",
    "!if [ ! -f chart.jpg ]; then wget https://raw.githubusercontent.com/moizumi99/camera_raw_process/master/chart.jpg; fi\n",
    "\n",
    "# 自分で撮影した画像を使用する場合は以下のコメントを取り除きアップロードします。\n",
    "# from google.colab import files\n",
    "# uploaded = files.upload()\n",
    "\n",
    "# RAWファイルの名前。\n",
    "# アップロードしたファイルを使う場合はその名前に変更。\n",
    "raw_file  = \"chart.jpg\"\n",
    "raw = rawpy.imread(raw_file)\n",
    "raw_array = raw.raw_image\n",
    "h, w = raw.sizes.raw_height, raw.sizes.raw_width\n",
    "raw_array = raw_array.reshape((h, w));"
   ]
  },
  {
   "cell_type": "markdown",
   "metadata": {},
   "source": [
    "## 簡易デモザイク処理の問題点\n",
    "\n",
    "前節では、デモザイク処理（Bayer配列の画像からフルカラーの画像を作り出す処理）として、簡易的な画像サイズが1/4になるものを使いました。\n",
    "単純な処理の割に意外なほどきれいな出力が得られるのですが、いかんせん画像が小さくなるのは問題です。また、出力画像が1/4になるので、細かい部分は潰れてしまいます。\n",
    "\n",
    "たとえば、同じシーンを、カメラの出力するJPEGと、前回の簡易RAW現像処理で処理した画像とで比べてみましょ"
   ]
  },
  {
   "cell_type": "markdown",
   "metadata": {},
   "source": [
    "## 処理の高速化"
   ]
  },
  {
   "cell_type": "markdown",
   "metadata": {},
   "source": [
    "同様の画像が出力されたようです。\n",
    "\n",
    "この`black_level_correction()`関数は`raw_process.py`モジュールの一部として[githubにアップロード](https://raw.githubusercontent.com/moizumi99/raw_process/master/raw_process.py)されています。\n",
    "使用する場合は、\n",
    "\n",
    "`!wget https://raw.githubusercontent.com/moizumi99/raw_process/master/raw_process.py`\n",
    "\n",
    "としてダウンロードした後、\n",
    "\n",
    "`from raw_process import black_level_correction`\n",
    "\n",
    "としてインポートしてください。"
   ]
  },
  {
   "cell_type": "markdown",
   "metadata": {},
   "source": [
    "## まとめ\n",
    "\n",
    "この節ではブラックレベル補正を行いました。次は[ガンマ補正](https://colab.research.google.com/github/moizumi99/camera_raw_processing/blob/master/camera_raw_chapter_3_5.ipynb)を行い、明るさとトーンを補正します。"
   ]
  }
 ],
 "metadata": {
  "kernelspec": {
   "display_name": "Python 3",
   "language": "python",
   "name": "python3"
  },
  "language_info": {
   "codemirror_mode": {
    "name": "ipython",
    "version": 3
   },
   "file_extension": ".py",
   "mimetype": "text/x-python",
   "name": "python",
   "nbconvert_exporter": "python",
   "pygments_lexer": "ipython3",
   "version": "3.7.0"
  }
 },
 "nbformat": 4,
 "nbformat_minor": 2
}
