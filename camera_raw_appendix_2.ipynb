{
  "nbformat": 4,
  "nbformat_minor": 0,
  "metadata": {
    "colab": {
      "name": "camera_raw_chapter_appendix_2.ipynb",
      "version": "0.3.2",
      "provenance": []
    },
    "kernelspec": {
      "display_name": "Python 3",
      "language": "python",
      "name": "python3"
    }
  },
  "cells": [
    {
      "metadata": {
        "colab_type": "text",
        "id": "4jwut-7gzs8U"
      },
      "cell_type": "markdown",
      "source": [
        "# Appendix"
      ]
    },
    {
      "metadata": {
        "colab_type": "text",
        "id": "kPkuZGWjzs8V"
      },
      "cell_type": "markdown",
      "source": [
        "## RAW画像の撮影方法"
      ]
    },
    {
      "metadata": {
        "colab_type": "text",
        "id": "ApD4indyzs8W"
      },
      "cell_type": "markdown",
      "source": [
        "### はじめに\n",
        "\n",
        "ここではRAW画像の撮影方法を簡単に説明します。\n",
        "\n",
        "この節のの内容はColabノートブックとして公開してあります。ノートブックを見るには[目次ページ](http://bit.ly/raw_toc)から参照するか、以下のリンクを使ってアクセスしてください。\n",
        "\n",
        "http://bit.ly/raw_appendix_2"
      ]
    },
    {
      "metadata": {
        "id": "7M_fE8cEEXdm",
        "colab_type": "text"
      },
      "cell_type": "markdown",
      "source": [
        "### Raspberry PiによるRAW撮影\n",
        "\n",
        "今回紹介する内容について前提とする環境は以下のとおりです。\n",
        "\n",
        "- 画像キャプチャーサイド\n",
        "    - ラズベリーパイ・モデル３B\n",
        "    - Raspbian 9.3のインストールされたSDCARD\n",
        "    - ラズベリーパイカメラv2.1\n",
        "\n",
        "他のラズベリーパイやv1.3カメラでも実行は可能だとは思われますが確認しておりません。\n",
        "\n",
        "以下の内容はラズベリーパイカメラv2.1がラズベリーパイに接続され正常に動作していることを前提としていますので、まず[公式ドキュメント](https://www.raspberrypi.org/documentation/usage/camera/) などに従ってカメラの動作を確認下さい[^1]。\n",
        "\n",
        "特に、GUIの左上のラズベリーパイアイコンから選択できる「設定」、「RaspberryPiの設定」、から「インターフェイス」タブで「カメラ」を有効にしておく必要がありますので、ご注意ください。\n",
        "\n",
        "[^1]: 公式ドキュメント以外では以下の記事が参考になります。[インターフェース2016年9月号緊急特集新型ラズパイ・カメラ２](https://cc.cqpub.co.jp/lib/system/doclib_item/1127/)\n",
        "\n",
        "ラズベリーパイにカメラをセッティングした状態で、以下のコマンドを実行します。\n",
        "\n",
        "```sh\n",
        "> raspistill -r -o raw_capture.jpg\n",
        "```\n",
        "\n",
        "```-r```がRAWキャプチャーを行うことをしめしています。\n",
        "\n",
        "うまくいけば、カレントディレクトリにraw_capture.jpgという名前のJPEGファイルができているはずです。\n",
        "このファイルは一見通常のJPEGファイルに見えますが、８MPのJPG画像ファイルにしては15MB前後と巨大なファイルサイズです。これは、RAWデータが埋め込みデータとしてファイル中に組み込まれているからです。\n",
        "\n",
        "キャプチャーが成功したら、このファイルをUSBメモリーで移す、ネットワークコピー、またはRaspbianの入ったSDCARDをホストPCに読み込ませる、などの方法でPCに移動します[^2]。\n",
        "\n",
        "うまくキャプチャーできたか、JPEGファイルのJPEG画像部分を見てみましょう。通常の画像ビューワーや画像エディタで確認できます。\n",
        "\n",
        "![キャプチャーされた画像](https://github.com/moizumi99/camera_raw_processing/raw/master/Figures/captured.png)\n",
        "\n",
        "あまり良い画像ではないですが、キャプチャーできていることは確認できました。"
      ]
    },
    {
      "metadata": {
        "id": "M6i26XzBIaAM",
        "colab_type": "text"
      },
      "cell_type": "markdown",
      "source": [
        "### カメラによるRAW画像撮影(α7-IIIの場合)\n",
        "\n",
        "カメラによるRAW画像撮影の方法はメーカー及びカメラの機種によって異なります。ここではこの本で一部使用したα7-IIIによるRAW撮影について簡単に説明します。\n",
        "\n",
        "カメラのMenuボタンを使ってカメラメニューを呼び出します。\n",
        "\n",
        "![カメラメニュー](https://github.com/moizumi99/camera_raw_processing/raw/master/Figures/Menu1.png)\n",
        "\n",
        "撮影に使ったカメラは国際版なので英語メニューですが、日本国内で通常販売されているカメラでは日本語表示されています。適宜読み替えを行ってください。\n",
        "\n",
        "カーソルキーでFile Formatメニューを呼び出し、RAWまたはRAW + JPEGを選択します。\n",
        "\n",
        "![RAWフォーマット選択](https://github.com/moizumi99/camera_raw_processing/raw/master/Figures/menu2.png)\n",
        "\n",
        "以上です。\n",
        "\n",
        "![RAW+JPEG](https://github.com/moizumi99/camera_raw_processing/raw/master/Figures/menu3.png)\n",
        "\n",
        "このあと撮影される画像では拡張子ARWのRAW画像が撮影されます。"
      ]
    }
  ]
}